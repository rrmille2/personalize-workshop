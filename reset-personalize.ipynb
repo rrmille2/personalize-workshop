{
 "cells": [
  {
   "cell_type": "code",
   "execution_count": 1,
   "metadata": {},
   "outputs": [
    {
     "name": "stdout",
     "output_type": "stream",
     "text": [
      "{\n",
      "    \"datasets\": []\n",
      "}\n"
     ]
    }
   ],
   "source": [
    "!aws personalize list-datasets\n"
   ]
  },
  {
   "cell_type": "code",
   "execution_count": 2,
   "metadata": {},
   "outputs": [
    {
     "name": "stdout",
     "output_type": "stream",
     "text": [
      "\n",
      "An error occurred (ResourceNotFoundException) when calling the DeleteDataset operation: Resource Arn arn:aws:personalize:us-east-1:662559257807:dataset/rp-personalize-dsg/INTERACTIONS does not exist.\n",
      "\n",
      "An error occurred (ResourceNotFoundException) when calling the DeleteDataset operation: Resource Arn arn:aws:personalize:us-east-1:662559257807:dataset/rp-personalize-dsg/ITEMS does not exist.\n",
      "\n",
      "An error occurred (ResourceNotFoundException) when calling the DeleteDataset operation: Resource Arn arn:aws:personalize:us-east-1:662559257807:dataset/rp-personalize-dsg/USERS does not exist.\n"
     ]
    }
   ],
   "source": [
    "!aws personalize delete-dataset --dataset-arn \"arn:aws:personalize:us-east-1:662559257807:dataset/rp-personalize-dsg/INTERACTIONS\"\n",
    "!aws personalize delete-dataset --dataset-arn \"arn:aws:personalize:us-east-1:662559257807:dataset/rp-personalize-dsg/ITEMS\"\n",
    "!aws personalize delete-dataset --dataset-arn \"arn:aws:personalize:us-east-1:662559257807:dataset/rp-personalize-dsg/USERS\""
   ]
  },
  {
   "cell_type": "code",
   "execution_count": 3,
   "metadata": {},
   "outputs": [
    {
     "name": "stdout",
     "output_type": "stream",
     "text": [
      "{\n",
      "    \"schemas\": [\n",
      "        {\n",
      "            \"name\": \"usermetadata-schema\",\n",
      "            \"schemaArn\": \"arn:aws:personalize:us-east-1:662559257807:schema/usermetadata-schema\",\n",
      "            \"creationDateTime\": 1634064021.174,\n",
      "            \"lastUpdatedDateTime\": 1634064021.174\n",
      "        }\n",
      "    ]\n",
      "}\n"
     ]
    }
   ],
   "source": [
    "!aws personalize list-schemas"
   ]
  },
  {
   "cell_type": "code",
   "execution_count": 4,
   "metadata": {},
   "outputs": [
    {
     "name": "stdout",
     "output_type": "stream",
     "text": [
      "\n",
      "An error occurred (ResourceNotFoundException) when calling the DeleteSchema operation: Resource Arn arn:aws:personalize:us-east-1:662559257807:schema/interactions-schema does not exist.\n",
      "\n",
      "An error occurred (ResourceNotFoundException) when calling the DeleteSchema operation: Resource Arn arn:aws:personalize:us-east-1:662559257807:schema/users-schema does not exist.\n",
      "\n",
      "An error occurred (ResourceNotFoundException) when calling the DeleteSchema operation: Resource Arn arn:aws:personalize:us-east-1:662559257807:schema/items-schema does not exist.\n"
     ]
    }
   ],
   "source": [
    "!aws personalize delete-schema --schema-arn \"arn:aws:personalize:us-east-1:662559257807:schema/interactions-schema\"\n",
    "!aws personalize delete-schema --schema-arn \"arn:aws:personalize:us-east-1:662559257807:schema/users-schema\"\n",
    "!aws personalize delete-schema --schema-arn \"arn:aws:personalize:us-east-1:662559257807:schema/items-schema\""
   ]
  },
  {
   "cell_type": "code",
   "execution_count": 5,
   "metadata": {},
   "outputs": [
    {
     "name": "stdout",
     "output_type": "stream",
     "text": [
      "{\n",
      "    \"datasetGroups\": []\n",
      "}\n"
     ]
    }
   ],
   "source": [
    "!aws personalize list-dataset-groups\n"
   ]
  },
  {
   "cell_type": "code",
   "execution_count": 6,
   "metadata": {},
   "outputs": [
    {
     "name": "stdout",
     "output_type": "stream",
     "text": [
      "\n",
      "An error occurred (ResourceNotFoundException) when calling the DeleteDatasetGroup operation: Resource Arn arn:aws:personalize:us-east-1:662559257807:dataset-group/rp-personalize-dsg does not exist.\n"
     ]
    }
   ],
   "source": [
    "!aws personalize delete-dataset-group --dataset-group-arn \"arn:aws:personalize:us-east-1:662559257807:dataset-group/rp-personalize-dsg\""
   ]
  },
  {
   "cell_type": "code",
   "execution_count": null,
   "metadata": {},
   "outputs": [],
   "source": []
  }
 ],
 "metadata": {
  "kernelspec": {
   "display_name": "Python 3 (Data Science)",
   "language": "python",
   "name": "python3__SAGEMAKER_INTERNAL__arn:aws:sagemaker:us-east-1:081325390199:image/datascience-1.0"
  },
  "language_info": {
   "codemirror_mode": {
    "name": "ipython",
    "version": 3
   },
   "file_extension": ".py",
   "mimetype": "text/x-python",
   "name": "python",
   "nbconvert_exporter": "python",
   "pygments_lexer": "ipython3",
   "version": "3.7.10"
  }
 },
 "nbformat": 4,
 "nbformat_minor": 4
}
