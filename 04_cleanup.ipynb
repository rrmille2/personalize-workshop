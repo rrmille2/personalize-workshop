{
 "cells": [
  {
   "cell_type": "markdown",
   "metadata": {},
   "source": [
    "# Deletes All Amazon Personalize data entities\n",
    "* Schemas\n",
    "* Datasets\n",
    "* Dataset Groups"
   ]
  },
  {
   "cell_type": "code",
   "execution_count": 1,
   "metadata": {},
   "outputs": [],
   "source": [
    "import boto3"
   ]
  },
  {
   "cell_type": "code",
   "execution_count": 2,
   "metadata": {},
   "outputs": [],
   "source": [
    "personalize = boto3.client('personalize')"
   ]
  },
  {
   "cell_type": "code",
   "execution_count": 3,
   "metadata": {},
   "outputs": [],
   "source": [
    "list_results = personalize.list_datasets()\n",
    "for dataset in list_results['datasets']:\n",
    "    del_results = personalize.delete_dataset( datasetArn = dataset['datasetArn'])\n",
    "    print(del_results)\n"
   ]
  },
  {
   "cell_type": "code",
   "execution_count": 4,
   "metadata": {},
   "outputs": [],
   "source": [
    "list_results = personalize.list_schemas()\n",
    "for schema in list_results['schemas']:\n",
    "    del_result = personalize.delete_schema( schemaArn = schema['schemaArn'])\n",
    "    print(del_result)"
   ]
  },
  {
   "cell_type": "code",
   "execution_count": 5,
   "metadata": {},
   "outputs": [],
   "source": [
    "list_results = personalize.list_dataset_groups()\n",
    "for dataset_group in list_results['datasetGroups']:\n",
    "    del_results = personalize.delete_dataset_group( datasetGroupArn = dataset_group['datasetGroupArn'])\n",
    "    print(del_results)"
   ]
  },
  {
   "cell_type": "code",
   "execution_count": null,
   "metadata": {},
   "outputs": [],
   "source": []
  }
 ],
 "metadata": {
  "kernelspec": {
   "display_name": "Python 3 (Data Science)",
   "language": "python",
   "name": "python3__SAGEMAKER_INTERNAL__arn:aws:sagemaker:us-east-1:081325390199:image/datascience-1.0"
  },
  "language_info": {
   "codemirror_mode": {
    "name": "ipython",
    "version": 3
   },
   "file_extension": ".py",
   "mimetype": "text/x-python",
   "name": "python",
   "nbconvert_exporter": "python",
   "pygments_lexer": "ipython3",
   "version": "3.7.10"
  }
 },
 "nbformat": 4,
 "nbformat_minor": 4
}
