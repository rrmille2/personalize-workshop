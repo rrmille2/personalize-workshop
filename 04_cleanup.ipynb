{
 "cells": [
  {
   "cell_type": "markdown",
   "metadata": {},
   "source": [
    "# Warning: This script deletes all `Amazon Personalize` entities\n",
    "including:\n",
    "* Schemas\n",
    "* Datasets\n",
    "* Campaigns\n",
    "* Solutions\n",
    "* Dataset Groups"
   ]
  },
  {
   "cell_type": "code",
   "execution_count": 1,
   "metadata": {},
   "outputs": [],
   "source": [
    "import boto3\n",
    "import time"
   ]
  },
  {
   "cell_type": "code",
   "execution_count": 2,
   "metadata": {},
   "outputs": [],
   "source": [
    "personalize = boto3.client('personalize')"
   ]
  },
  {
   "cell_type": "code",
   "execution_count": 3,
   "metadata": {},
   "outputs": [
    {
     "name": "stdout",
     "output_type": "stream",
     "text": [
      "{'ResponseMetadata': {'RequestId': 'de3fb8df-2bb7-4e18-9911-bcf3ebed43b9', 'HTTPStatusCode': 200, 'HTTPHeaders': {'content-type': 'application/x-amz-json-1.1', 'date': 'Fri, 15 Oct 2021 15:35:15 GMT', 'x-amzn-requestid': 'de3fb8df-2bb7-4e18-9911-bcf3ebed43b9', 'content-length': '0', 'connection': 'keep-alive'}, 'RetryAttempts': 0}}\n",
      "{'ResponseMetadata': {'RequestId': 'a0645a50-dc2c-4c3f-9446-08cbea64352c', 'HTTPStatusCode': 200, 'HTTPHeaders': {'content-type': 'application/x-amz-json-1.1', 'date': 'Fri, 15 Oct 2021 15:35:14 GMT', 'x-amzn-requestid': 'a0645a50-dc2c-4c3f-9446-08cbea64352c', 'content-length': '0', 'connection': 'keep-alive'}, 'RetryAttempts': 0}}\n",
      "{'ResponseMetadata': {'RequestId': 'e61ca25e-9555-4ec6-b063-a1abb9c13dab', 'HTTPStatusCode': 200, 'HTTPHeaders': {'content-type': 'application/x-amz-json-1.1', 'date': 'Fri, 15 Oct 2021 15:35:15 GMT', 'x-amzn-requestid': 'e61ca25e-9555-4ec6-b063-a1abb9c13dab', 'content-length': '0', 'connection': 'keep-alive'}, 'RetryAttempts': 0}}\n"
     ]
    }
   ],
   "source": [
    "list_results = personalize.list_datasets()\n",
    "for dataset in list_results['datasets']:\n",
    "    del_results = personalize.delete_dataset( datasetArn = dataset['datasetArn'])\n",
    "    print(del_results)\n"
   ]
  },
  {
   "cell_type": "code",
   "execution_count": 4,
   "metadata": {},
   "outputs": [
    {
     "name": "stdout",
     "output_type": "stream",
     "text": [
      "waiting for dataset deletes to complete.....done\n"
     ]
    }
   ],
   "source": [
    "print('waiting for dataset deletes to complete...', end='')\n",
    "while True:\n",
    "    list_results = personalize.list_datasets()\n",
    "    if len(list_results['datasets']) == 0:\n",
    "        break\n",
    "    else:\n",
    "        print('.', end='')\n",
    "        time.sleep(10)\n",
    "      \n",
    "print('done')\n"
   ]
  },
  {
   "cell_type": "code",
   "execution_count": 5,
   "metadata": {},
   "outputs": [
    {
     "name": "stdout",
     "output_type": "stream",
     "text": [
      "{'ResponseMetadata': {'RequestId': '6b35a6f7-5407-44b8-ace3-4021d22a3422', 'HTTPStatusCode': 200, 'HTTPHeaders': {'content-type': 'application/x-amz-json-1.1', 'date': 'Fri, 15 Oct 2021 15:35:35 GMT', 'x-amzn-requestid': '6b35a6f7-5407-44b8-ace3-4021d22a3422', 'content-length': '0', 'connection': 'keep-alive'}, 'RetryAttempts': 0}}\n",
      "{'ResponseMetadata': {'RequestId': '7304e189-6cf1-46dc-9ef3-f42d03f592ac', 'HTTPStatusCode': 200, 'HTTPHeaders': {'content-type': 'application/x-amz-json-1.1', 'date': 'Fri, 15 Oct 2021 15:35:35 GMT', 'x-amzn-requestid': '7304e189-6cf1-46dc-9ef3-f42d03f592ac', 'content-length': '0', 'connection': 'keep-alive'}, 'RetryAttempts': 0}}\n",
      "{'ResponseMetadata': {'RequestId': '724ede9a-690b-40f9-a9d6-9166f5097e6a', 'HTTPStatusCode': 200, 'HTTPHeaders': {'content-type': 'application/x-amz-json-1.1', 'date': 'Fri, 15 Oct 2021 15:35:35 GMT', 'x-amzn-requestid': '724ede9a-690b-40f9-a9d6-9166f5097e6a', 'content-length': '0', 'connection': 'keep-alive'}, 'RetryAttempts': 0}}\n"
     ]
    }
   ],
   "source": [
    "list_results = personalize.list_schemas()\n",
    "for schema in list_results['schemas']:\n",
    "    del_result = personalize.delete_schema( schemaArn = schema['schemaArn'])\n",
    "    print(del_result)\n",
    "    "
   ]
  },
  {
   "cell_type": "code",
   "execution_count": 6,
   "metadata": {},
   "outputs": [
    {
     "name": "stdout",
     "output_type": "stream",
     "text": [
      "waiting for schema deletes to complete...done\n"
     ]
    }
   ],
   "source": [
    "print('waiting for schema deletes to complete...', end='')\n",
    "while True:\n",
    "    list_results = personalize.list_schemas()\n",
    "    if len(list_results['schemas']) == 0:\n",
    "        break\n",
    "    else:\n",
    "        print('.', end='')\n",
    "        time.sleep(10)\n",
    "\n",
    "print('done')\n",
    "        "
   ]
  },
  {
   "cell_type": "code",
   "execution_count": 7,
   "metadata": {},
   "outputs": [
    {
     "name": "stdout",
     "output_type": "stream",
     "text": [
      "{'ResponseMetadata': {'RequestId': 'd7d9bd4c-8ca4-46ab-87a0-04c6eabfe8d9', 'HTTPStatusCode': 200, 'HTTPHeaders': {'content-type': 'application/x-amz-json-1.1', 'date': 'Fri, 15 Oct 2021 15:35:35 GMT', 'x-amzn-requestid': 'd7d9bd4c-8ca4-46ab-87a0-04c6eabfe8d9', 'content-length': '0', 'connection': 'keep-alive'}, 'RetryAttempts': 0}}\n",
      "{'ResponseMetadata': {'RequestId': '7013a70d-5e5a-4509-a588-51d137978056', 'HTTPStatusCode': 200, 'HTTPHeaders': {'content-type': 'application/x-amz-json-1.1', 'date': 'Fri, 15 Oct 2021 15:35:36 GMT', 'x-amzn-requestid': '7013a70d-5e5a-4509-a588-51d137978056', 'content-length': '0', 'connection': 'keep-alive'}, 'RetryAttempts': 0}}\n",
      "{'ResponseMetadata': {'RequestId': 'b984f6a5-45d4-41f9-adf2-4df42ba41f41', 'HTTPStatusCode': 200, 'HTTPHeaders': {'content-type': 'application/x-amz-json-1.1', 'date': 'Fri, 15 Oct 2021 15:35:36 GMT', 'x-amzn-requestid': 'b984f6a5-45d4-41f9-adf2-4df42ba41f41', 'content-length': '0', 'connection': 'keep-alive'}, 'RetryAttempts': 0}}\n"
     ]
    }
   ],
   "source": [
    "list_results = personalize.list_campaigns()\n",
    "for campaign in list_results['campaigns']:\n",
    "    del_results = personalize.delete_campaign( campaignArn = campaign['campaignArn'])\n",
    "    print(del_results)\n",
    "    "
   ]
  },
  {
   "cell_type": "code",
   "execution_count": 8,
   "metadata": {},
   "outputs": [
    {
     "name": "stdout",
     "output_type": "stream",
     "text": [
      "waiting for campaign deletes to complete....................................done\n"
     ]
    }
   ],
   "source": [
    "print('waiting for campaign deletes to complete...', end='')\n",
    "while True:\n",
    "    list_results = personalize.list_campaigns()\n",
    "    if len(list_results['campaigns']) == 0:\n",
    "        break\n",
    "    else:\n",
    "        print('.', end='')\n",
    "        time.sleep(10)\n",
    "\n",
    "print('done')\n",
    "        "
   ]
  },
  {
   "cell_type": "code",
   "execution_count": 9,
   "metadata": {},
   "outputs": [
    {
     "name": "stdout",
     "output_type": "stream",
     "text": [
      "{'ResponseMetadata': {'RequestId': '2f5a60ef-40f0-4d71-b1a4-610752d8b50f', 'HTTPStatusCode': 200, 'HTTPHeaders': {'content-type': 'application/x-amz-json-1.1', 'date': 'Fri, 15 Oct 2021 15:41:06 GMT', 'x-amzn-requestid': '2f5a60ef-40f0-4d71-b1a4-610752d8b50f', 'content-length': '0', 'connection': 'keep-alive'}, 'RetryAttempts': 0}}\n",
      "{'ResponseMetadata': {'RequestId': '3919501e-3ef9-484d-b02d-b9229b3d4dd8', 'HTTPStatusCode': 200, 'HTTPHeaders': {'content-type': 'application/x-amz-json-1.1', 'date': 'Fri, 15 Oct 2021 15:41:06 GMT', 'x-amzn-requestid': '3919501e-3ef9-484d-b02d-b9229b3d4dd8', 'content-length': '0', 'connection': 'keep-alive'}, 'RetryAttempts': 0}}\n",
      "{'ResponseMetadata': {'RequestId': 'ff2c3c01-9edc-4446-ad04-49992dd10a57', 'HTTPStatusCode': 200, 'HTTPHeaders': {'content-type': 'application/x-amz-json-1.1', 'date': 'Fri, 15 Oct 2021 15:41:06 GMT', 'x-amzn-requestid': 'ff2c3c01-9edc-4446-ad04-49992dd10a57', 'content-length': '0', 'connection': 'keep-alive'}, 'RetryAttempts': 0}}\n"
     ]
    }
   ],
   "source": [
    "list_results = personalize.list_solutions()\n",
    "for solution in list_results['solutions']:\n",
    "    del_results = personalize.delete_solution( solutionArn = solution['solutionArn'])\n",
    "    print(del_results)\n",
    "    "
   ]
  },
  {
   "cell_type": "code",
   "execution_count": 10,
   "metadata": {},
   "outputs": [
    {
     "name": "stdout",
     "output_type": "stream",
     "text": [
      "waiting for solution deletes to complete.........done\n"
     ]
    }
   ],
   "source": [
    "print('waiting for solution deletes to complete...', end='')\n",
    "while True:\n",
    "    list_results = personalize.list_solutions()\n",
    "    if len(list_results['solutions']) == 0:\n",
    "        break\n",
    "    else:\n",
    "        print('.', end='')\n",
    "        time.sleep(10)\n",
    "\n",
    "print('done')\n",
    "        "
   ]
  },
  {
   "cell_type": "code",
   "execution_count": 11,
   "metadata": {},
   "outputs": [
    {
     "name": "stdout",
     "output_type": "stream",
     "text": [
      "{'ResponseMetadata': {'RequestId': '88f87466-b304-4050-8580-841010b64b0d', 'HTTPStatusCode': 200, 'HTTPHeaders': {'content-type': 'application/x-amz-json-1.1', 'date': 'Fri, 15 Oct 2021 15:42:07 GMT', 'x-amzn-requestid': '88f87466-b304-4050-8580-841010b64b0d', 'content-length': '0', 'connection': 'keep-alive'}, 'RetryAttempts': 0}}\n"
     ]
    }
   ],
   "source": [
    "list_results = personalize.list_dataset_groups()\n",
    "for dataset_group in list_results['datasetGroups']:\n",
    "    del_results = personalize.delete_dataset_group( datasetGroupArn = dataset_group['datasetGroupArn'])\n",
    "    print(del_results)\n",
    "    "
   ]
  },
  {
   "cell_type": "code",
   "execution_count": 12,
   "metadata": {},
   "outputs": [
    {
     "name": "stdout",
     "output_type": "stream",
     "text": [
      "waiting for dataset_group deletes to complete.........done\n"
     ]
    }
   ],
   "source": [
    "print('waiting for dataset_group deletes to complete...', end='')\n",
    "while True:\n",
    "    list_results = personalize.list_dataset_groups()\n",
    "    if len(list_results['datasetGroups']) == 0:\n",
    "        break\n",
    "    else:\n",
    "        print('.', end='')\n",
    "        time.sleep(10)\n",
    "\n",
    "print('done')\n",
    "        "
   ]
  },
  {
   "cell_type": "code",
   "execution_count": null,
   "metadata": {},
   "outputs": [],
   "source": []
  }
 ],
 "metadata": {
  "instance_type": "ml.t3.medium",
  "kernelspec": {
   "display_name": "Python 3 (Data Science)",
   "language": "python",
   "name": "python3__SAGEMAKER_INTERNAL__arn:aws:sagemaker:us-east-1:081325390199:image/datascience-1.0"
  },
  "language_info": {
   "codemirror_mode": {
    "name": "ipython",
    "version": 3
   },
   "file_extension": ".py",
   "mimetype": "text/x-python",
   "name": "python",
   "nbconvert_exporter": "python",
   "pygments_lexer": "ipython3",
   "version": "3.7.10"
  }
 },
 "nbformat": 4,
 "nbformat_minor": 4
}
