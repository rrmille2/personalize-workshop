{
 "cells": [
  {
   "cell_type": "markdown",
   "metadata": {},
   "source": [
    "# Interacting with Campaigns <a class=\"anchor\" id=\"top\"></a>\n",
    "\n",
    "In this notebook, you will deploy and interact with campaigns in Amazon Personalize.\n",
    "\n",
    "1. [Introduction](#intro)\n",
    "1. [Create campaigns](#create)\n",
    "1. [Interact with campaigns](#interact)\n",
    "1. [Batch recommendations](#batch)\n",
    "1. [Wrap up](#wrapup)\n",
    "\n",
    "## Introduction <a class=\"anchor\" id=\"intro\"></a>\n",
    "[Back to top](#top)\n",
    "\n",
    "At this point, you should have several solutions and at least one solution version for each. Once a solution version is created, it is possible to get recommendations from them, and to get a feel for their overall behavior.\n",
    "\n",
    "You should also have deployed a campaign for each of these solution versions. Once they are active, there are resources for querying the recommendations, and helper functions to digest the output into something more human-readable. \n",
    "\n",
    "As you with your customer on Amazon Personalize, you can modify the helper functions to fit the structure of their data input files to keep the additional rendering working.\n",
    "\n",
    "To get started, once again, we need to import libraries, load values from previous notebooks, and load the SDK."
   ]
  },
  {
   "cell_type": "code",
   "execution_count": 1,
   "metadata": {},
   "outputs": [],
   "source": [
    "import time\n",
    "from time import sleep\n",
    "import json\n",
    "from datetime import datetime\n",
    "import uuid\n",
    "import random\n",
    "import boto3\n",
    "import pandas as pd"
   ]
  },
  {
   "cell_type": "code",
   "execution_count": 2,
   "metadata": {},
   "outputs": [],
   "source": [
    "%store -r"
   ]
  },
  {
   "cell_type": "code",
   "execution_count": 3,
   "metadata": {},
   "outputs": [],
   "source": [
    "personalize = boto3.client('personalize')\n",
    "personalize_runtime = boto3.client('personalize-runtime')\n",
    "\n",
    "# Establish a connection to Personalize's event streaming\n",
    "personalize_events = boto3.client(service_name='personalize-events')"
   ]
  },
  {
   "cell_type": "markdown",
   "metadata": {},
   "source": [
    "## Interact with campaigns <a class=\"anchor\" id=\"interact\"></a>\n",
    "[Back to top](#top)\n",
    "\n",
    "Now that all campaigns are deployed and active, we can start to get recommendations via an API call. Each of the campaigns is based on a different recipe, which behave in slightly different ways because they serve different use cases. We will cover the campaigns in a different order than used in previous notebooks, in order to deal with the possible complexities in ascending order (i.e. simplest first).\n",
    "\n",
    "First, let's create a supporting function to help make sense of the results returned by a Personalize campaign. Personalize returns only an `item_id`. This is great for keeping data compact, but it means you need to query a database or lookup table to get a human-readable result for the notebooks. We will create a helper function to return a human-readable result from the Movielens dataset.\n",
    "\n",
    "Start by loading in the dataset which we can use for our lookup table."
   ]
  },
  {
   "cell_type": "code",
   "execution_count": 4,
   "metadata": {},
   "outputs": [],
   "source": [
    "# Create a dataframe for the items by reading in the correct source CSV\n",
    "items_df = pd.read_csv(f'{data_dir}/raw/posts.csv')\n",
    "items_df = items_df.set_index('post_id')\n"
   ]
  },
  {
   "cell_type": "code",
   "execution_count": 5,
   "metadata": {},
   "outputs": [
    {
     "data": {
      "text/html": [
       "<div>\n",
       "<style scoped>\n",
       "    .dataframe tbody tr th:only-of-type {\n",
       "        vertical-align: middle;\n",
       "    }\n",
       "\n",
       "    .dataframe tbody tr th {\n",
       "        vertical-align: top;\n",
       "    }\n",
       "\n",
       "    .dataframe thead th {\n",
       "        text-align: right;\n",
       "    }\n",
       "</style>\n",
       "<table border=\"1\" class=\"dataframe\">\n",
       "  <thead>\n",
       "    <tr style=\"text-align: right;\">\n",
       "      <th></th>\n",
       "      <th>type</th>\n",
       "      <th>ancestry</th>\n",
       "      <th>title</th>\n",
       "      <th>body</th>\n",
       "      <th>active</th>\n",
       "      <th>last_activity_at</th>\n",
       "      <th>profile_id</th>\n",
       "      <th>votes_count</th>\n",
       "      <th>created_at</th>\n",
       "      <th>updated_at</th>\n",
       "      <th>...</th>\n",
       "      <th>comments_count</th>\n",
       "      <th>r_and_c_count</th>\n",
       "      <th>short_group_url</th>\n",
       "      <th>sponsored_post</th>\n",
       "      <th>root_type</th>\n",
       "      <th>best_of_rp</th>\n",
       "      <th>best_of_rp_setter_id</th>\n",
       "      <th>engagement_locked</th>\n",
       "      <th>command_post_type</th>\n",
       "      <th>qrc_groups</th>\n",
       "    </tr>\n",
       "    <tr>\n",
       "      <th>post_id</th>\n",
       "      <th></th>\n",
       "      <th></th>\n",
       "      <th></th>\n",
       "      <th></th>\n",
       "      <th></th>\n",
       "      <th></th>\n",
       "      <th></th>\n",
       "      <th></th>\n",
       "      <th></th>\n",
       "      <th></th>\n",
       "      <th></th>\n",
       "      <th></th>\n",
       "      <th></th>\n",
       "      <th></th>\n",
       "      <th></th>\n",
       "      <th></th>\n",
       "      <th></th>\n",
       "      <th></th>\n",
       "      <th></th>\n",
       "      <th></th>\n",
       "      <th></th>\n",
       "    </tr>\n",
       "  </thead>\n",
       "  <tbody>\n",
       "    <tr>\n",
       "      <th>6621543</th>\n",
       "      <td>Comment</td>\n",
       "      <td>6084286/6099168</td>\n",
       "      <td>NaN</td>\n",
       "      <td>**redacted contact**  - and where do you get ...</td>\n",
       "      <td>1</td>\n",
       "      <td>NaN</td>\n",
       "      <td>1580444</td>\n",
       "      <td>1</td>\n",
       "      <td>2021-01-01 00:04:27</td>\n",
       "      <td>2021-01-01 00:11:38</td>\n",
       "      <td>...</td>\n",
       "      <td>0</td>\n",
       "      <td>0</td>\n",
       "      <td>NaN</td>\n",
       "      <td>0</td>\n",
       "      <td>Question</td>\n",
       "      <td>0</td>\n",
       "      <td>NaN</td>\n",
       "      <td>0</td>\n",
       "      <td>NaN</td>\n",
       "      <td>Retirement,Leadership,Values,Promotions</td>\n",
       "    </tr>\n",
       "    <tr>\n",
       "      <th>6621544</th>\n",
       "      <td>Comment</td>\n",
       "      <td>6084286/6619121</td>\n",
       "      <td>NaN</td>\n",
       "      <td>col trinh, most people in the chain of command...</td>\n",
       "      <td>1</td>\n",
       "      <td>NaN</td>\n",
       "      <td>1459261</td>\n",
       "      <td>0</td>\n",
       "      <td>2021-01-01 00:04:33</td>\n",
       "      <td>2021-01-01 00:04:33</td>\n",
       "      <td>...</td>\n",
       "      <td>0</td>\n",
       "      <td>0</td>\n",
       "      <td>NaN</td>\n",
       "      <td>0</td>\n",
       "      <td>Question</td>\n",
       "      <td>0</td>\n",
       "      <td>NaN</td>\n",
       "      <td>0</td>\n",
       "      <td>NaN</td>\n",
       "      <td>Retirement,Leadership,Values,Promotions</td>\n",
       "    </tr>\n",
       "    <tr>\n",
       "      <th>6621546</th>\n",
       "      <td>Response</td>\n",
       "      <td>6620500</td>\n",
       "      <td>NaN</td>\n",
       "      <td>great accomplishments in difficult times.  wat...</td>\n",
       "      <td>1</td>\n",
       "      <td>NaN</td>\n",
       "      <td>1652327</td>\n",
       "      <td>2</td>\n",
       "      <td>2021-01-01 00:05:29</td>\n",
       "      <td>2021-01-01 00:05:29</td>\n",
       "      <td>...</td>\n",
       "      <td>0</td>\n",
       "      <td>0</td>\n",
       "      <td>NaN</td>\n",
       "      <td>0</td>\n",
       "      <td>SharedLink</td>\n",
       "      <td>0</td>\n",
       "      <td>NaN</td>\n",
       "      <td>0</td>\n",
       "      <td>NaN</td>\n",
       "      <td>Awards,Physics,Theoretical Physics,Science</td>\n",
       "    </tr>\n",
       "    <tr>\n",
       "      <th>6621547</th>\n",
       "      <td>Comment</td>\n",
       "      <td>6084286/6098802</td>\n",
       "      <td>NaN</td>\n",
       "      <td>**redacted contact**  - i certainly didn't vo...</td>\n",
       "      <td>1</td>\n",
       "      <td>NaN</td>\n",
       "      <td>181760</td>\n",
       "      <td>0</td>\n",
       "      <td>2021-01-01 00:05:34</td>\n",
       "      <td>2021-01-01 00:05:34</td>\n",
       "      <td>...</td>\n",
       "      <td>0</td>\n",
       "      <td>0</td>\n",
       "      <td>NaN</td>\n",
       "      <td>0</td>\n",
       "      <td>Question</td>\n",
       "      <td>0</td>\n",
       "      <td>NaN</td>\n",
       "      <td>0</td>\n",
       "      <td>NaN</td>\n",
       "      <td>Retirement,Leadership,Values,Promotions</td>\n",
       "    </tr>\n",
       "    <tr>\n",
       "      <th>6621548</th>\n",
       "      <td>Comment</td>\n",
       "      <td>1157569/6592815</td>\n",
       "      <td>NaN</td>\n",
       "      <td>tanana alaska january #### operation jack fros...</td>\n",
       "      <td>1</td>\n",
       "      <td>NaN</td>\n",
       "      <td>1631106</td>\n",
       "      <td>2</td>\n",
       "      <td>2021-01-01 00:05:51</td>\n",
       "      <td>2021-01-01 00:05:51</td>\n",
       "      <td>...</td>\n",
       "      <td>0</td>\n",
       "      <td>0</td>\n",
       "      <td>NaN</td>\n",
       "      <td>0</td>\n",
       "      <td>Question</td>\n",
       "      <td>0</td>\n",
       "      <td>NaN</td>\n",
       "      <td>0</td>\n",
       "      <td>NaN</td>\n",
       "      <td>Friends,Memories,Photography</td>\n",
       "    </tr>\n",
       "  </tbody>\n",
       "</table>\n",
       "<p>5 rows × 41 columns</p>\n",
       "</div>"
      ],
      "text/plain": [
       "             type         ancestry title  \\\n",
       "post_id                                    \n",
       "6621543   Comment  6084286/6099168   NaN   \n",
       "6621544   Comment  6084286/6619121   NaN   \n",
       "6621546  Response          6620500   NaN   \n",
       "6621547   Comment  6084286/6098802   NaN   \n",
       "6621548   Comment  1157569/6592815   NaN   \n",
       "\n",
       "                                                      body  active  \\\n",
       "post_id                                                              \n",
       "6621543   **redacted contact**  - and where do you get ...       1   \n",
       "6621544  col trinh, most people in the chain of command...       1   \n",
       "6621546  great accomplishments in difficult times.  wat...       1   \n",
       "6621547   **redacted contact**  - i certainly didn't vo...       1   \n",
       "6621548  tanana alaska january #### operation jack fros...       1   \n",
       "\n",
       "        last_activity_at  profile_id  votes_count           created_at  \\\n",
       "post_id                                                                  \n",
       "6621543              NaN     1580444            1  2021-01-01 00:04:27   \n",
       "6621544              NaN     1459261            0  2021-01-01 00:04:33   \n",
       "6621546              NaN     1652327            2  2021-01-01 00:05:29   \n",
       "6621547              NaN      181760            0  2021-01-01 00:05:34   \n",
       "6621548              NaN     1631106            2  2021-01-01 00:05:51   \n",
       "\n",
       "                  updated_at  ...  comments_count  r_and_c_count  \\\n",
       "post_id                       ...                                  \n",
       "6621543  2021-01-01 00:11:38  ...               0              0   \n",
       "6621544  2021-01-01 00:04:33  ...               0              0   \n",
       "6621546  2021-01-01 00:05:29  ...               0              0   \n",
       "6621547  2021-01-01 00:05:34  ...               0              0   \n",
       "6621548  2021-01-01 00:05:51  ...               0              0   \n",
       "\n",
       "         short_group_url  sponsored_post   root_type best_of_rp  \\\n",
       "post_id                                                           \n",
       "6621543              NaN               0    Question          0   \n",
       "6621544              NaN               0    Question          0   \n",
       "6621546              NaN               0  SharedLink          0   \n",
       "6621547              NaN               0    Question          0   \n",
       "6621548              NaN               0    Question          0   \n",
       "\n",
       "        best_of_rp_setter_id engagement_locked command_post_type  \\\n",
       "post_id                                                            \n",
       "6621543                  NaN                 0               NaN   \n",
       "6621544                  NaN                 0               NaN   \n",
       "6621546                  NaN                 0               NaN   \n",
       "6621547                  NaN                 0               NaN   \n",
       "6621548                  NaN                 0               NaN   \n",
       "\n",
       "                                         qrc_groups  \n",
       "post_id                                              \n",
       "6621543     Retirement,Leadership,Values,Promotions  \n",
       "6621544     Retirement,Leadership,Values,Promotions  \n",
       "6621546  Awards,Physics,Theoretical Physics,Science  \n",
       "6621547     Retirement,Leadership,Values,Promotions  \n",
       "6621548                Friends,Memories,Photography  \n",
       "\n",
       "[5 rows x 41 columns]"
      ]
     },
     "execution_count": 5,
     "metadata": {},
     "output_type": "execute_result"
    }
   ],
   "source": [
    "# Render some sample data\n",
    "items_df.head(5)"
   ]
  },
  {
   "cell_type": "markdown",
   "metadata": {},
   "source": [
    "By defining the ID column as the index column it is trivial to return a movie by just querying the ID. Movie #589 should be Terminator 2: Judgment Day."
   ]
  },
  {
   "cell_type": "code",
   "execution_count": 88,
   "metadata": {},
   "outputs": [
    {
     "data": {
      "text/plain": [
       "(387721, 41)"
      ]
     },
     "execution_count": 88,
     "metadata": {},
     "output_type": "execute_result"
    }
   ],
   "source": [
    "items_df.shape"
   ]
  },
  {
   "cell_type": "markdown",
   "metadata": {},
   "source": [
    "That isn't terrible, but it would get messy to repeat this everywhere in our code, so the function below will clean that up."
   ]
  },
  {
   "cell_type": "code",
   "execution_count": 107,
   "metadata": {},
   "outputs": [],
   "source": [
    "def get_item_by_id(item_id):\n",
    "    item_id = int(item_id)\n",
    "    if item_id in items_df.index.values:\n",
    "        rval = items_df.loc[item_id]\n",
    "    else:\n",
    "        rval = pd.Series([])\n",
    "    return rval\n",
    "    "
   ]
  },
  {
   "cell_type": "code",
   "execution_count": 108,
   "metadata": {},
   "outputs": [
    {
     "name": "stdout",
     "output_type": "stream",
     "text": [
      "[6954093, 6881159, 7197119]\n"
     ]
    }
   ],
   "source": [
    "# get a random ITEM-ID\n",
    "ran_items = items_df.sample(3).index.tolist()\n",
    "print(ran_items)"
   ]
  },
  {
   "cell_type": "code",
   "execution_count": 109,
   "metadata": {},
   "outputs": [
    {
     "name": "stdout",
     "output_type": "stream",
     "text": [
      "6954093:\tthe leftists would tell you yeah, but this is different....\n",
      "6881159:\tman great video but that guys accent sounds like people who cannot help but talk to you like your an idiot.\n",
      "7197119:\t **redacted contact**  where are the party pics? i would like to see them.  i know you have them if you threw the party!  come in, just one!\n"
     ]
    }
   ],
   "source": [
    "for item_id in ran_items:\n",
    "    post = get_item_by_id(item_id)\n",
    "    print(f'{item_id}:\\t', end='')\n",
    "    if post.empty:\n",
    "        print('Not found.')\n",
    "    else:\n",
    "        print(post.body)"
   ]
  },
  {
   "cell_type": "markdown",
   "metadata": {},
   "source": [
    "### SIMS\n",
    "\n",
    "SIMS requires just an item as input, and it will return items which users interact with in similar ways to their interaction with the input item. In this particular case the item is a movie. "
   ]
  },
  {
   "cell_type": "markdown",
   "metadata": {},
   "source": [
    "The cells below will handle getting recommendations from SIMS and rendering the results. Let's see what the recommendations are for the first item we looked at earlier in this notebook (Terminator 2: Judgment Day)."
   ]
  },
  {
   "cell_type": "code",
   "execution_count": 98,
   "metadata": {},
   "outputs": [],
   "source": [
    "get_recommendations_response = personalize_runtime.get_recommendations(\n",
    "    campaignArn = sims_campaign_arn,\n",
    "    itemId = str(6944144),\n",
    ")"
   ]
  },
  {
   "cell_type": "code",
   "execution_count": 99,
   "metadata": {},
   "outputs": [
    {
     "name": "stdout",
     "output_type": "stream",
     "text": [
      "[{'itemId': '7110928'}, {'itemId': '6865970'}, {'itemId': '6810191'}, {'itemId': '6781635'}, {'itemId': '7187056'}, {'itemId': '6846397'}, {'itemId': '7162930'}, {'itemId': '6852494'}, {'itemId': '7069922'}, {'itemId': '6896215'}, {'itemId': '6643074'}, {'itemId': '6747302'}, {'itemId': '7094780'}, {'itemId': '7076599'}, {'itemId': '6770828'}, {'itemId': '7008304'}, {'itemId': '7102876'}, {'itemId': '6830280'}, {'itemId': '7059659'}, {'itemId': '6870328'}, {'itemId': '6828448'}, {'itemId': '7050472'}, {'itemId': '6715995'}, {'itemId': '6905957'}, {'itemId': '6622424'}]\n"
     ]
    }
   ],
   "source": [
    "item_list = get_recommendations_response['itemList']\n",
    "print(item_list)"
   ]
  },
  {
   "cell_type": "code",
   "execution_count": 110,
   "metadata": {},
   "outputs": [
    {
     "name": "stdout",
     "output_type": "stream",
     "text": [
      "7110928:\tthanks to all who participated! this sweepstakes event has ended and all prizes have been awarded. please continue to share your stories and follow the rallysweeps page for the next event! https://rly.pt/rlyswp\n",
      "6865970:\tscroll updates will be posted when available\n",
      "6810191:\tfinal edit made ## august ####: i was promoted ## august #### with an mli recommendation for promotion to e#. i had to contact my s# since they didn't cut orders, but i am a sergeant as of yesterday. i'm looking forward to hopefully going to my first ever board in #-# months as i enter secondary zone for staff sergeant. thank you all for answers, and the answer ended up being yes! (just need to be fully qualified and fit mli specific tis/tig requirements while making points)    major edit for others ## june ####: mli has been rescinded effective ## july ####, those who received mli (p) will keep, but otherwise for e#->e# it's rescinded (e#->e# is still currently there). i will still give update when i'm on the list and when my records say sergeant with dor. (never had a board)    note: biggest thing i'm looking for is experiences, because according to ar ###-#-##. if you have everything except a passing board you will be promoted on mli, unless barred.    has anyone here had direct contact with someone who was promoted by mli?  like had ssd (now dlc), ncoes, and makes points, but never passed a board and doesn't have negative actions against them?  i'm a bit confused with it, but i think the people i know who was in long enough for mli either didn't have one of the requirements like ncoes or points, or had some form of negative action or bar to service.  is it automatic when have everything and there is no bar or anything?  any feedback is appreciated, i was interested in this question for long time.    v/r    spc  **redacted lname** ,  **redacted fname**  (she/they)    edit ## june ####: i am promotable as of ## june ####, never have been to a board in my life. my mos's points are at ### and my points are at ### and counting. expecting to see me on by-name list either #st of july, or #st of august due to tis reasons.    edit ## july ####: i made the list for pin-on to sgt ## august ####\n",
      "6781635:\tsince military benefits are lost on day ## of a criminal conviction, will we finally see the retired and/or separated insurrectionist veterans lose their retirements, gi/#-## bills, and va benefits and stop them leeching off a government they wanted to overturn in the first place?    in addition, will we see their respective services follow precedent and subject those retirees to court martials, as they are still bound by ucmj after retirement?\n",
      "7187056:\ti can't say i'm surprised that this is all happening. right now i'm just sad and frustrated.\n",
      "6846397:\tthere are a lot of great discount and resources available for military appreciation month. we ask you to share some of the best ones so your brothers and sisters can enjoy them too.\n",
      "7162930:\tthanks to all who participated! this sweepstakes event has ended and all prizes have been awarded. please continue to share your stories and follow the rallysweeps page for the next event! https://rly.pt/rlyswp\n",
      "6852494:\tbackstory. this soldier has know about the asu inspection for well over a mont and had gained a substantial amount of weight this past year. she knew a month ago that she didn't fit in her uniform. but instead of coming forward and saying anything she decided to show up the day of the inspection with it on a hanger saying she has it but it doesn't fit. is a punishment warranted for this action? if not what steps or counseling should i give her forcing her to buy a new uniform. looking for guidance?\n",
      "7069922:\tthis spc calls me hey man outside work. i don't work with him directly; just happened to come across couple of times at work, and he did call me sir. not sure whether i should even bother to correct this spc.\n",
      "6896215:\thas anyone seen the story out of virginia about #lt caron nazario. i'm looking for some feedback on his actions and the police reactions. is this acceptable conduct for an officer in the us military has anyone else had this kind of interaction?\n",
      "6643074:\tfor the air force combat veteran who was killed during the protest/riot, what is the appropriate response from current uniformed soldiers, and is there any policy regarding this? also, will she receive or be eligible for military funeral honors?\n",
      "6747302:\tis there a regulation on this kind of stuff. i understand that a duty must be preformed such as cq and staff duty. however in my mind it's very dangerous to have soldiers who live ##+ minutes away from post to preform such duties when they can have someone who lives on base preform it. and have their duties switched up. is there any regulation on this.\n",
      "7094780:\tthanks to all who shared! this sweepstakes event has ended and all prizes have been awarded. please continue to share your stories on this page and follow the rallysweeps page for the next event! https://rly.pt/rlyswp\n",
      "7076599:\tprofessional development question for the senior leaders:    i am sure we have all seen, or at least read a couple stories of the csm chewing out a young lt when the lt decides to assert rank and lock up the csm.  inevitably these stories end with the young lt being called onto the bc's carpet (or sometimes the cg) and ripped a new one while the csm looks on smugly.    and we all chuckle at the important life lesson the young lt learned about the difference between rank and authority.    but i got to thinking...........    if things get to the point where that lt is feeling disrespected, belittled, and/or intentionally intimidated, isn't the csm already in the wrong?  especially if this is in front of troops?  i absolutely understand the difference between rank and authority, but shouldn't that csm be setting the example of tact and respect (s)he expects their soldiers to follow?  should we be stopping to wonder what is that csm's major malfunction is, such that they felt the need to publicly disrespect a commissioned officer?    in all of the stories i have read about this situation, i don't remember that ever being discussed.  so.... discuss....    (or don't).    edit: admins changed the topic to who is in the wrong.  this is less a question of who is wrong.  i am working off the assumption that the csm is not lighting up the lt for no reason, so the lt is assumed to be in the wrong here.  it is a question of, is not the csm also wrong?\n",
      "6770828:\tso my husband is trying to re-in list. he was almost through the process until a consult with the doctor at meps. he was honest and said he drinks, not heavily but he does drink on occasion. they denied his waiver because of it. is it the end of the road? can he try again in # months? what are the next steps if there are any?\n",
      "7008304:\thave a acquaintance who served in desert storm as a combat medic and completed ## years of service unfortunately he received a dishonorable for striking an officer one night while he was drunk, ive always given him the respect i show fellow vets because he did serve for so long but i have also been ripped by other vets for doing so because of his condition of discharge am i wrong to give him the respect i feel he earned in spite of his lack of self restraint that resulted in a one time mistake that cost him his career? i should note that according to the story this aquaintance was returning to base after a night in town at a club and in spite of being in civies the officer who was not part of his chain of command was demanding to be saluted. allegedly the officer was in civies as well at the time of the incident thus this man had no way to know the person was an officer.\n",
      "7102876:\tar ###-## is clear.  the title of address for a msg is sergeant.  my personal opinion is that the majority of msgs that insist on it do so because of their ego.  the remainder is just ignorance.\n",
      "6830280:\ti served in desert shield/storm as an army cook for a tank battalion. i never had to participate in any combat myself but was in the combat zones. would i be considered a combat veteran just for being in the combat zones?\n",
      "7059659:\tnan\n",
      "6870328:\tnan\n",
      "6828448:\ti passed the board recently and now im being told i may have to be a cpl until i go to blc or until i get back from ranger school. i dont want to take responsibility as a team leader and still get paid as a spc. can i deny a #### ?\n",
      "7050472:\thaving been at ft bliss (dry heat) and now being at ft riley (very humid heat) when is it acceptable for soldiers to modify the uniform?  we are hitting heat cat # & # every day now and there's many solders (including my wife's unit) who work outside all day every day right under the sun which is tough.  up until recently there has been no issue with them (this specific unit is a uas platoon so they're on an air strip for hours) taking off their tops due to the extreme heat.  recently they were told army policy says you're allowed to roll sleeves not take off tops so no more taking them off. knowing a bit about how regs work there is no army policy but rather a regulation that leaves it up to the local commander to decide (which is usually overruled by crusty grumpy #sg's for no reason at all).    so my question is, because i can't find supporting regs to try and help out, when is it acceptable for soldiers to remove tops?  is it just never?  is it a local call from someone willing to take the heat round because at the end of the day as ncos we are responsible for the welfare of our soldiers?    i am somewhat hoping a medical person will chime in with the heat index recommendations or something along those lines but overall i'm curious on your thoughts.\n",
      "6715995:\tso for all the vets here, how do y'all deal with someone trying to call you stolen valor in a polite way? even if they are being aggressive about it? i've been out on a meb for almost a year now and there's a store in my state with superhero parking for vets, active duty, law enforcement and firefighters, while i haven't parked there yet, i'm sure once i do someone will attempt to say something about it. i have my va card and my driver's license says veteran on it and i have an entire album in my phone with pictures of my army times. now what if this isn't enough to get them to back off? how can i politely tell them they're wrong and to drop the situation?\n",
      "6905957:\ti recently made the promotion list for e-#, i was just wondering if it was even a thing to promote yourself on pcs leave. my brother told me he would pin before heading to my next unit.\n",
      "6622424:\twhen i was in basic training in ####, our drill sergeant told us that we may not speak against the president because he is our boss; over the next ## years, i heard only one soldier make an offensive comment.  i have been reading opinions about ltc alexander vindman, and have seen trump being both vilified and deified.  is it considered okay to make disrespectful comments when one is no longer active?\n"
     ]
    }
   ],
   "source": [
    "for rec_item in item_list:\n",
    "    item_id = rec_item['itemId']\n",
    "    print(f'{item_id}:\\t', end='')\n",
    "    post = get_item_by_id(item_id)\n",
    "    if post.empty:\n",
    "        print('Not found.')\n",
    "    else:\n",
    "        print(post.body)\n"
   ]
  },
  {
   "cell_type": "markdown",
   "metadata": {},
   "source": [
    "Congrats, this is your first list of recommendations! This list is fine, but it would be better to see the recommendations for similar movies render in a nice dataframe. Again, let's create a helper function to achieve this."
   ]
  },
  {
   "cell_type": "markdown",
   "metadata": {},
   "source": [
    "Now, let's test the helper function with several different movies. Let's sample some data from our dataset to test our SIMS campaign. Grab 5 random movies from our dataframe.\n",
    "\n",
    "Note: We are going to show similar titles, so you may want to re-run the sample until you recognize some of the movies listed"
   ]
  },
  {
   "cell_type": "markdown",
   "metadata": {},
   "source": [
    "### User Personalization\n",
    "\n",
    "HRNN is one of the more advanced algorithms provided by Amazon Personalize. It supports personalization of the items for a specific user based on their past behavior and can intake real time events in order to alter recommendations for a user without retraining. \n",
    "\n",
    "Since HRNN relies on having a sampling of users, let's load the data we need for that and select 3 random users. Since Movielens does not include user data, we will select 3 random numbers from the range of user id's in the dataset."
   ]
  },
  {
   "cell_type": "markdown",
   "metadata": {},
   "source": [
    "Now we render the recommendations for our 3 random users from above. After that, we will explore real-time interactions before moving on to Personalized Ranking.\n",
    "\n",
    "Again, we create a helper function to render the results in a nice dataframe.\n",
    "\n",
    "#### API call results"
   ]
  },
  {
   "cell_type": "code",
   "execution_count": null,
   "metadata": {},
   "outputs": [],
   "source": []
  },
  {
   "cell_type": "code",
   "execution_count": 49,
   "metadata": {},
   "outputs": [
    {
     "data": {
      "text/html": [
       "<div>\n",
       "<style scoped>\n",
       "    .dataframe tbody tr th:only-of-type {\n",
       "        vertical-align: middle;\n",
       "    }\n",
       "\n",
       "    .dataframe tbody tr th {\n",
       "        vertical-align: top;\n",
       "    }\n",
       "\n",
       "    .dataframe thead th {\n",
       "        text-align: right;\n",
       "    }\n",
       "</style>\n",
       "<table border=\"1\" class=\"dataframe\">\n",
       "  <thead>\n",
       "    <tr style=\"text-align: right;\">\n",
       "      <th></th>\n",
       "      <th>marital_status</th>\n",
       "      <th>age</th>\n",
       "      <th>gender</th>\n",
       "      <th>rank</th>\n",
       "      <th>TIMESTAMP</th>\n",
       "    </tr>\n",
       "    <tr>\n",
       "      <th>USER_ID</th>\n",
       "      <th></th>\n",
       "      <th></th>\n",
       "      <th></th>\n",
       "      <th></th>\n",
       "      <th></th>\n",
       "    </tr>\n",
       "  </thead>\n",
       "  <tbody>\n",
       "    <tr>\n",
       "      <th>604</th>\n",
       "      <td>Married</td>\n",
       "      <td>44</td>\n",
       "      <td>Male</td>\n",
       "      <td>LTC</td>\n",
       "      <td>1344606156000000000</td>\n",
       "    </tr>\n",
       "    <tr>\n",
       "      <th>605</th>\n",
       "      <td>Married</td>\n",
       "      <td>46</td>\n",
       "      <td>Male</td>\n",
       "      <td>CPT</td>\n",
       "      <td>1344609187000000000</td>\n",
       "    </tr>\n",
       "    <tr>\n",
       "      <th>607</th>\n",
       "      <td>Married</td>\n",
       "      <td>39</td>\n",
       "      <td>Male</td>\n",
       "      <td>Capt</td>\n",
       "      <td>1344622316000000000</td>\n",
       "    </tr>\n",
       "    <tr>\n",
       "      <th>610</th>\n",
       "      <td>Married</td>\n",
       "      <td>40</td>\n",
       "      <td>Male</td>\n",
       "      <td>LTC</td>\n",
       "      <td>1344633409000000000</td>\n",
       "    </tr>\n",
       "    <tr>\n",
       "      <th>619</th>\n",
       "      <td>Married</td>\n",
       "      <td>38</td>\n",
       "      <td>Male</td>\n",
       "      <td>Lt Col</td>\n",
       "      <td>1344795354000000000</td>\n",
       "    </tr>\n",
       "  </tbody>\n",
       "</table>\n",
       "</div>"
      ],
      "text/plain": [
       "        marital_status  age gender    rank            TIMESTAMP\n",
       "USER_ID                                                        \n",
       "604            Married   44   Male     LTC  1344606156000000000\n",
       "605            Married   46   Male     CPT  1344609187000000000\n",
       "607            Married   39   Male    Capt  1344622316000000000\n",
       "610            Married   40   Male     LTC  1344633409000000000\n",
       "619            Married   38   Male  Lt Col  1344795354000000000"
      ]
     },
     "execution_count": 49,
     "metadata": {},
     "output_type": "execute_result"
    }
   ],
   "source": [
    "# Create a dataframe for the items by reading in the correct source CSV\n",
    "users_df = pd.read_csv(data_dir + 'user-meta.csv')\n",
    "users_df = users_df.set_index('USER_ID')\n",
    "\n",
    "# Render some sample data\n",
    "users_df.head(5)"
   ]
  },
  {
   "cell_type": "code",
   "execution_count": 111,
   "metadata": {},
   "outputs": [
    {
     "name": "stdout",
     "output_type": "stream",
     "text": [
      "[1881050, 803091, 862333]\n"
     ]
    }
   ],
   "source": [
    "ran_users = users_df.sample(3).index.tolist()\n",
    "print(ran_users)"
   ]
  },
  {
   "cell_type": "code",
   "execution_count": 118,
   "metadata": {},
   "outputs": [
    {
     "name": "stdout",
     "output_type": "stream",
     "text": [
      "[{'itemId': '7050472', 'score': 0.0202207}, {'itemId': '7059659', 'score': 0.017084}, {'itemId': '6846397', 'score': 0.0152388}, {'itemId': '6770828', 'score': 0.0146097}, {'itemId': '6810191', 'score': 0.0144212}, {'itemId': '6828448', 'score': 0.0130757}, {'itemId': '7031063', 'score': 0.0130193}, {'itemId': '7031191', 'score': 0.0128974}, {'itemId': '6830280', 'score': 0.0120832}, {'itemId': '6643074', 'score': 0.0115107}, {'itemId': '6937853', 'score': 0.0113073}, {'itemId': '7008304', 'score': 0.0105913}, {'itemId': '7102876', 'score': 0.0105222}, {'itemId': '7162930', 'score': 0.0104653}, {'itemId': '6905957', 'score': 0.0080874}, {'itemId': '7076599', 'score': 0.0080449}, {'itemId': '7186507', 'score': 0.0067413}, {'itemId': '6853551', 'score': 0.0065115}, {'itemId': '7094780', 'score': 0.006439}, {'itemId': '7152032', 'score': 0.0062416}, {'itemId': '6852494', 'score': 0.0061744}, {'itemId': '6865970', 'score': 0.0061622}, {'itemId': '7187618', 'score': 0.0061174}, {'itemId': '7112565', 'score': 0.0057999}, {'itemId': '6855133', 'score': 0.0056993}]\n"
     ]
    }
   ],
   "source": [
    "\n",
    "get_recommendations_response = personalize_runtime.get_recommendations(\n",
    "    campaignArn = userpersonalization_campaign_arn,\n",
    "    userId = str(803091),\n",
    ")\n",
    "\n",
    "item_list = get_recommendations_response['itemList']\n",
    "print(item_list)"
   ]
  },
  {
   "cell_type": "code",
   "execution_count": 119,
   "metadata": {},
   "outputs": [
    {
     "name": "stdout",
     "output_type": "stream",
     "text": [
      "7050472:\thaving been at ft bliss (dry heat) and now being at ft riley (very humid heat) when is it acceptable for soldiers to modify the uniform?  we are hitting heat cat # & # every day now and there's many solders (including my wife's unit) who work outside all day every day right under the sun which is tough.  up until recently there has been no issue with them (this specific unit is a uas platoon so they're on an air strip for hours) taking off their tops due to the extreme heat.  recently they were told army policy says you're allowed to roll sleeves not take off tops so no more taking them off. knowing a bit about how regs work there is no army policy but rather a regulation that leaves it up to the local commander to decide (which is usually overruled by crusty grumpy #sg's for no reason at all).    so my question is, because i can't find supporting regs to try and help out, when is it acceptable for soldiers to remove tops?  is it just never?  is it a local call from someone willing to take the heat round because at the end of the day as ncos we are responsible for the welfare of our soldiers?    i am somewhat hoping a medical person will chime in with the heat index recommendations or something along those lines but overall i'm curious on your thoughts.\n",
      "7059659:\tnan\n",
      "6846397:\tthere are a lot of great discount and resources available for military appreciation month. we ask you to share some of the best ones so your brothers and sisters can enjoy them too.\n",
      "6770828:\tso my husband is trying to re-in list. he was almost through the process until a consult with the doctor at meps. he was honest and said he drinks, not heavily but he does drink on occasion. they denied his waiver because of it. is it the end of the road? can he try again in # months? what are the next steps if there are any?\n",
      "6810191:\tfinal edit made ## august ####: i was promoted ## august #### with an mli recommendation for promotion to e#. i had to contact my s# since they didn't cut orders, but i am a sergeant as of yesterday. i'm looking forward to hopefully going to my first ever board in #-# months as i enter secondary zone for staff sergeant. thank you all for answers, and the answer ended up being yes! (just need to be fully qualified and fit mli specific tis/tig requirements while making points)    major edit for others ## june ####: mli has been rescinded effective ## july ####, those who received mli (p) will keep, but otherwise for e#->e# it's rescinded (e#->e# is still currently there). i will still give update when i'm on the list and when my records say sergeant with dor. (never had a board)    note: biggest thing i'm looking for is experiences, because according to ar ###-#-##. if you have everything except a passing board you will be promoted on mli, unless barred.    has anyone here had direct contact with someone who was promoted by mli?  like had ssd (now dlc), ncoes, and makes points, but never passed a board and doesn't have negative actions against them?  i'm a bit confused with it, but i think the people i know who was in long enough for mli either didn't have one of the requirements like ncoes or points, or had some form of negative action or bar to service.  is it automatic when have everything and there is no bar or anything?  any feedback is appreciated, i was interested in this question for long time.    v/r    spc  **redacted lname** ,  **redacted fname**  (she/they)    edit ## june ####: i am promotable as of ## june ####, never have been to a board in my life. my mos's points are at ### and my points are at ### and counting. expecting to see me on by-name list either #st of july, or #st of august due to tis reasons.    edit ## july ####: i made the list for pin-on to sgt ## august ####\n",
      "6828448:\ti passed the board recently and now im being told i may have to be a cpl until i go to blc or until i get back from ranger school. i dont want to take responsibility as a team leader and still get paid as a spc. can i deny a #### ?\n",
      "7031063:\ti'm looking down the barrel of another deployment (i'm looking forward to it). during my last idt, the sxo approached me and asked if i was planning on staying in or leaving. i'm looking to move to florida upon our return from this deployment and by the time we get backed i'll have # years in. balancing life as an officer in the army (national guard) and a police officer is quite the challenge. add a family on the way and it's rather daunting. i could have promoted a couple years ago but found out that my current unit (in ####) was possibly deploying to afghanistan and i really wanted to go as a pl (since my time as a pl was rather checkered). that mission got scrapped so i'm going where we are going now as the troop xo. it dawned on me that a good part of me doesn't care about making captain. my evals have always been good and i've always performed well at pt. but the way the sxo and a few other officers talked about it made me wonder...is it considered bad if an officer leaves the military as an o-#? i was curious what anyone here, active, guard, or reserves thought.\n",
      "7031191:\tthanks to all who shared! this sweepstakes event has ended and all prizes have been awarded. please continue to share your stories on this page and follow the rallysweeps page for the next event! https://rly.pt/rlyswp\n",
      "6830280:\ti served in desert shield/storm as an army cook for a tank battalion. i never had to participate in any combat myself but was in the combat zones. would i be considered a combat veteran just for being in the combat zones?\n",
      "6643074:\tfor the air force combat veteran who was killed during the protest/riot, what is the appropriate response from current uniformed soldiers, and is there any policy regarding this? also, will she receive or be eligible for military funeral honors?\n",
      "6937853:\ta friend had told me a previous commander he had gave them out to soldiers as they ets'd, we were under the impression however that the honorable discharge pin was given to world war ii vets upon honorable discharge and was done away with after ####.    have you seen units trying to keep this old accoutrements alive? i assume that commander was doing it out of his own pocket.\n",
      "7008304:\thave a acquaintance who served in desert storm as a combat medic and completed ## years of service unfortunately he received a dishonorable for striking an officer one night while he was drunk, ive always given him the respect i show fellow vets because he did serve for so long but i have also been ripped by other vets for doing so because of his condition of discharge am i wrong to give him the respect i feel he earned in spite of his lack of self restraint that resulted in a one time mistake that cost him his career? i should note that according to the story this aquaintance was returning to base after a night in town at a club and in spite of being in civies the officer who was not part of his chain of command was demanding to be saluted. allegedly the officer was in civies as well at the time of the incident thus this man had no way to know the person was an officer.\n",
      "7102876:\tar ###-## is clear.  the title of address for a msg is sergeant.  my personal opinion is that the majority of msgs that insist on it do so because of their ego.  the remainder is just ignorance.\n",
      "7162930:\tthanks to all who participated! this sweepstakes event has ended and all prizes have been awarded. please continue to share your stories and follow the rallysweeps page for the next event! https://rly.pt/rlyswp\n",
      "6905957:\ti recently made the promotion list for e-#, i was just wondering if it was even a thing to promote yourself on pcs leave. my brother told me he would pin before heading to my next unit.\n",
      "7076599:\tprofessional development question for the senior leaders:    i am sure we have all seen, or at least read a couple stories of the csm chewing out a young lt when the lt decides to assert rank and lock up the csm.  inevitably these stories end with the young lt being called onto the bc's carpet (or sometimes the cg) and ripped a new one while the csm looks on smugly.    and we all chuckle at the important life lesson the young lt learned about the difference between rank and authority.    but i got to thinking...........    if things get to the point where that lt is feeling disrespected, belittled, and/or intentionally intimidated, isn't the csm already in the wrong?  especially if this is in front of troops?  i absolutely understand the difference between rank and authority, but shouldn't that csm be setting the example of tact and respect (s)he expects their soldiers to follow?  should we be stopping to wonder what is that csm's major malfunction is, such that they felt the need to publicly disrespect a commissioned officer?    in all of the stories i have read about this situation, i don't remember that ever being discussed.  so.... discuss....    (or don't).    edit: admins changed the topic to who is in the wrong.  this is less a question of who is wrong.  i am working off the assumption that the csm is not lighting up the lt for no reason, so the lt is assumed to be in the wrong here.  it is a question of, is not the csm also wrong?\n",
      "7186507:\tat some point, everyone wishes they could travel back in time. if you had the opportunity to go back to when you first joined the military, what advice would you give yourself? your younger self would desperately want to hear your thoughts, but so does the  **redacted fname**  community!     check out official rules here: https://rly.pt/loginjoinadvicerules\n",
      "6853551:\tgot my whole packet done within my shift today including an interview with my commander. got the green light and packet was submitted, i know it isn't a guarantee to change over but at least a good step. does anyone know what it's like in the space force for lower enlisted or for other service members coming from branches other than air force? or any advice would be greatly appreciated, thanks\n",
      "7094780:\tthanks to all who shared! this sweepstakes event has ended and all prizes have been awarded. please continue to share your stories on this page and follow the rallysweeps page for the next event! https://rly.pt/rlyswp\n",
      "7152032:\twe're not in the dog days of summer just yet, you still have time to sneak in a vacation! to help get the ball rolling and motivate you to finally book those tickets that have been in your cart for weeks,  **redacted fname**  wants to know your favorite summer vacation spot. comment on this post where your favorite place is for some rest & relaxation and be entered to win # of # $### airbnb or amazon gift cards. good luck!    check out official rules here: https://rly.pt/bestvacaspotrules\n",
      "6852494:\tbackstory. this soldier has know about the asu inspection for well over a mont and had gained a substantial amount of weight this past year. she knew a month ago that she didn't fit in her uniform. but instead of coming forward and saying anything she decided to show up the day of the inspection with it on a hanger saying she has it but it doesn't fit. is a punishment warranted for this action? if not what steps or counseling should i give her forcing her to buy a new uniform. looking for guidance?\n",
      "6865970:\tscroll updates will be posted when available\n",
      "7187618:\tit's been a heavy day for many of us. with all the negativity in the news, i couldn't be more proud of my fellow veterans who answered the call when we needed you the most.  regardless of the final outcome, your service mattered and i'm proud to call you my brothers and sisters.\n",
      "7112565:\tnan\n",
      "6855133:\tit's official: as a female soldier, you can grow your hair to any length and wear it in a ponytail or another style, as long as it's neat, doesn't go beyond the collar or interfere with headgear or equipment. you can wear stud earrings in the combat uniform if not deployed or in the field, and put on certain shades of lipstick and nail polish.   as a male soldier, you can join your female colleagues in highlighting your hair in a natural color, or using nail polish, as long as it's clear. but you still must shave your facial hair (unless you have a medical or religious exception).   these are among the appearance and grooming changes the army added on march #, ####, to the newly updated army regulation ###-#, wear and appearance of army uniforms and insignia, which became effective feb. ##, ####. the march # additions are an official part of the ar ###-#, but due to timing issues, were tacked onto the official document in an all army activities (alaract) message.   “i think this is really good for the army,” said sgt. maj. of the army michael a. grinston at a facebook town hall earlier this year, where he previewed the policy changes, which generally apply to the regular army, army national guard and the u.s. army reserve. he was accompanied by sgt. maj. brian c. sanders and sgt. maj. mark anthony clark of the uniform policy branch.   “these (standards) aren't about male and female,” grinston insisted. “this is about an army standard and how we move forward with the army and being a more diverse, inclusive team.”   retaining female service members   nevertheless, many of the changes appear aimed at improving recruitment and retention of female soldiers, who make up about ##% of the #.## million member army, but exit at higher rates than male soldiers. a may #### government accountability office (gao) report found that the likelihood of separation for female service members across service branches is ##% higher than that of males. factors cited for leaving include child care, family planning, organizational culture, sexual assault and work schedules.   gao recommended that the department of defense develop performance-based plans to improve female recruitment and retention, and dod agreed.   in the area of child care, the ar ###-# makes it clear:  ·  \tyou can breastfeed on federal property. ·  \tyou can now wear an optional t-shirt to breastfeed or pump. ·  \tyou can unzip or remove the army combat uniform coat to breastfeed. ·  \tyou can remove the coat and unbutton the shirt of the army service uniform, army green service uniform or mess uniform as needed to breastfeed. ·  \tas you breastfeed, you don't need to cover up yourself or your child with additional items.     grinston commended the diverse group of soldiers for suggesting the changes to leaders and for serving on the panel that considered and voted to approve the recommendations, which he said senior leaders accepted.   the process, grinston said, broadened his outlook. “i used to say, ‘we're all soldiers. i just see green,'” he said. “what i learned, even throughout myself, is that when you say that you don't see me as a soldier.”   promoting wellness and readiness   some policy changes were based on the advice of experts in behavioral health, dermatology and other areas. for instance, sanders said the panel found that previous rules requiring female soldiers to create buns from short hair led some to suffer hair damage or develop alopecia, which can lead to severe hair loss. readiness was at issue in allowing long ponytails under certain conditions, grinston said, by letting females fit helmets more snugly.   additional changes promote diversity and inclusion by standardizing terminology in grooming and appearance, removing potentially offensive words to describe appearance such as mohawk or fu manchu, and allowing accents and hyphens to nameplates.   other revisions to ar ###-# include:   ·  \tauthorizing the carrying of bags, handbags, purses and backpacks and allowing combat uniform sleeves to be rolled up.  ·  \tadding the improved hot weather combat uniform as an authorized uniform. ·  \timplementing policy for the new army green service uniform. ·  \tadding guidance on wearing of shoulder sleeve insignia for distinctive unit and military operations in hostile conditions.   keeping the no-beard policy   with more than ###,### signatories to a change.org petition asking the army to allow facial hair in a garrison environment, grinston was asked if male soldiers will be allowed to grow beards.   although he said this “is not one of the things we looked at” in this review, grinston reminded leaders that there are valid, authorized exceptions to the no-beard rule.   “if there is an exception to policy to have a beard, there should be no leader out there telling a soldier to shave,” he said. “we have to be better than that.”   learn more   ·  \taccess a u.s. army page with answers to questions and additional resources on the grooming standards: https://rly.pt/#ty#upw     ·  \tdownload the ar ###-#, wear and appearance of army uniforms and insignia: https://rly.pt/#p#m#oz  ·  \tdownload the alaract supplemental to the ar ###-# (cac access may be required): https://rly.pt/#lyxxkv  ·  \tread the gao report: https://rly.pt/#w###is  ·  \tview the change.org petition about beards: https://rly.pt/#cnezlz  ·  \twatch the ar ###-# town hall: https://rly.pt/#fj#jul\n",
      "\n",
      "\n",
      "\n"
     ]
    }
   ],
   "source": [
    "for item in item_list:\n",
    "    item_id = item['itemId']\n",
    "    print(f'{item_id}:\\t', end ='')\n",
    "    post = get_item_by_id(item_id)\n",
    "    if len(post):\n",
    "        print(post.body)\n",
    "    else:\n",
    "        print(f'Not found.')\n",
    "print('\\n\\n')"
   ]
  },
  {
   "cell_type": "markdown",
   "metadata": {},
   "source": [
    "Here we clearly see that the recommendations for each user are different. If you were to need a cache for these results, you could start by running the API calls through all your users and store the results, or you could use a batch export, which will be covered later in this notebook."
   ]
  },
  {
   "cell_type": "markdown",
   "metadata": {},
   "source": [
    "### Personalized Ranking\n",
    "\n",
    "The core use case for personalized ranking is to take a collection of items and to render them in priority or probable order of interest for a user. For a VOD application you want dynamically render a personalized shelf/rail/carousel based on some information (director, location, superhero franchise, movie time period etc). This may not be information that you have in your metadata, so a item metadata filter will not work, howeverr you may have this information within you system to generate the item list. \n",
    "\n",
    "To demonstrate this, we will use the same user from before and a random collection of items."
   ]
  },
  {
   "cell_type": "code",
   "execution_count": null,
   "metadata": {},
   "outputs": [],
   "source": [
    "rerank_user = '1717295'\n",
    "rerank_items = items_df.sample(25).index.tolist()"
   ]
  },
  {
   "cell_type": "markdown",
   "metadata": {},
   "source": [
    "Now build a nice dataframe that shows the input data."
   ]
  },
  {
   "cell_type": "code",
   "execution_count": null,
   "metadata": {},
   "outputs": [],
   "source": [
    "rerank_list = []\n",
    "for item in rerank_items:\n",
    "    post = get_item_by_id(item)\n",
    "    rerank_list.append(post)\n",
    "rerank_df = pd.DataFrame(rerank_list, columns = ['Un-Ranked'])\n",
    "rerank_df"
   ]
  },
  {
   "cell_type": "markdown",
   "metadata": {},
   "source": [
    "Then make the personalized ranking API call."
   ]
  },
  {
   "cell_type": "code",
   "execution_count": null,
   "metadata": {},
   "outputs": [],
   "source": [
    "# Convert user to string:\n",
    "user_id = str(rerank_user)\n",
    "rerank_item_list = []\n",
    "for item in rerank_items:\n",
    "    rerank_item_list.append(str(item))\n",
    "    \n",
    "# Get recommended reranking\n",
    "get_recommendations_response_rerank = personalize_runtime.get_personalized_ranking(\n",
    "        campaignArn = rerank_campaign_arn,\n",
    "        userId = user_id,\n",
    "        inputList = rerank_item_list\n",
    ")"
   ]
  },
  {
   "cell_type": "markdown",
   "metadata": {},
   "source": [
    "Now add the reranked items as a second column to the original dataframe, for a side-by-side comparison."
   ]
  },
  {
   "cell_type": "code",
   "execution_count": null,
   "metadata": {},
   "outputs": [],
   "source": [
    "ranked_list = []\n",
    "item_list = get_recommendations_response_rerank['personalizedRanking']\n",
    "for item in item_list:\n",
    "    post = get_item_by_id(item['itemId'])\n",
    "    ranked_list.append(post)\n",
    "ranked_df = pd.DataFrame(ranked_list, columns = ['Re-Ranked'])\n",
    "rerank_df = pd.concat([rerank_df, ranked_df], axis=1)\n",
    "rerank_df"
   ]
  },
  {
   "cell_type": "markdown",
   "metadata": {},
   "source": [
    "You can see above how each entry was re-ordered based on the model's understanding of the user. This is a popular task when you have a collection of items to surface a user, a list of promotions for example."
   ]
  },
  {
   "cell_type": "markdown",
   "metadata": {},
   "source": [
    "## Batch recommendations <a class=\"anchor\" id=\"batch\"></a>\n",
    "[Back to top](#top)\n",
    "\n",
    "There are many cases where you may want to have a larger dataset of exported recommendations. Recently, Amazon Personalize launched batch recommendations as a way to export a collection of recommendations to S3. In this example, we will walk through how to do this for the HRNN solution. For more information about batch recommendations, please see the [documentation](https://docs.aws.amazon.com/personalize/latest/dg/recommendations-batch.html). This feature applies to all recipes, but the output format will vary.\n",
    "\n",
    "A simple implementation looks like this:\n",
    "\n",
    "```python\n",
    "import boto3\n",
    "\n",
    "personalize_rec = boto3.client(service_name='personalize')\n",
    "\n",
    "personalize_rec.create_batch_inference_job (\n",
    "    solutionVersionArn = \"Solution version ARN\",\n",
    "    jobName = \"Batch job name\",\n",
    "    roleArn = \"IAM role ARN\",\n",
    "    jobInput = \n",
    "       {\"s3DataSource\": {\"path\": <S3 input path>}},\n",
    "    jobOutput = \n",
    "       {\"s3DataDestination\": {\"path\": <S3 output path>}}\n",
    ")\n",
    "```\n",
    "\n",
    "The SDK import, the solution version arn, and role arns have all been determined. This just leaves an input, an output, and a job name to be defined.\n",
    "\n",
    "Starting with the input for HRNN, it looks like:\n",
    "\n",
    "\n",
    "```JSON\n",
    "{\"userId\": \"4638\"}\n",
    "{\"userId\": \"663\"}\n",
    "{\"userId\": \"3384\"}\n",
    "```\n",
    "\n",
    "This should yield an output that looks like this:\n",
    "\n",
    "```JSON\n",
    "{\"input\":{\"userId\":\"4638\"}, \"output\": {\"recommendedItems\": [\"296\", \"1\", \"260\", \"318\"]}}\n",
    "{\"input\":{\"userId\":\"663\"}, \"output\": {\"recommendedItems\": [\"1393\", \"3793\", \"2701\", \"3826\"]}}\n",
    "{\"input\":{\"userId\":\"3384\"}, \"output\": {\"recommendedItems\": [\"8368\", \"5989\", \"40815\", \"48780\"]}}\n",
    "```\n",
    "\n",
    "The output is a JSON Lines file. It consists of individual JSON objects, one per line. So we will need to put in more work later to digest the results in this format."
   ]
  },
  {
   "cell_type": "markdown",
   "metadata": {},
   "source": [
    "### Building the input file\n",
    "\n",
    "When you are using the batch feature, you specify the users that you'd like to receive recommendations for when the job has completed. The cell below will again select a few random users and will then build the file and save it to disk. From there, you will upload it to S3 to use in the API call later."
   ]
  },
  {
   "cell_type": "code",
   "execution_count": null,
   "metadata": {},
   "outputs": [],
   "source": [
    "# We will use the same users from before\n",
    "print(ran_users)\n",
    "\n",
    "# Write the file to disk\n",
    "json_input_filename = \"json_input.json\"\n",
    "with open(data_dir + \"/\" + json_input_filename, 'w') as json_input:\n",
    "    for user_id in ran_users:\n",
    "        json_input.write('{\"userId\": \"' + str(user_id) + '\"}\\n')"
   ]
  },
  {
   "cell_type": "code",
   "execution_count": null,
   "metadata": {},
   "outputs": [],
   "source": [
    "# Showcase the input file:\n",
    "!cat $data_dir\"/\"$json_input_filename"
   ]
  },
  {
   "cell_type": "markdown",
   "metadata": {},
   "source": [
    "Upload the file to S3 and save the path as a variable for later."
   ]
  },
  {
   "cell_type": "code",
   "execution_count": null,
   "metadata": {},
   "outputs": [],
   "source": [
    "# Upload files to S3\n",
    "s3input_path = f's3://{s3bucket}/{s3prefix}/{json_input_filename}'\n",
    "!aws s3 cp $data_dir/$json_input_filename $s3input_path\n"
   ]
  },
  {
   "cell_type": "markdown",
   "metadata": {},
   "source": [
    "Batch recommendations read the input from the file we've uploaded to S3. Similarly, batch recommendations will save the output to file in S3. So we define the output path where the results should be saved."
   ]
  },
  {
   "cell_type": "code",
   "execution_count": null,
   "metadata": {},
   "outputs": [],
   "source": [
    "# Define the output path\n",
    "s3output_path = f's3://{s3bucket}/{s3prefix}/results/'\n",
    "print(s3output_path)"
   ]
  },
  {
   "cell_type": "markdown",
   "metadata": {},
   "source": [
    "Now just make the call to kick off the batch export process."
   ]
  },
  {
   "cell_type": "code",
   "execution_count": null,
   "metadata": {},
   "outputs": [],
   "source": [
    "batchInferenceJobArn = personalize.create_batch_inference_job (\n",
    "    solutionVersionArn = userpersonalization_solution_version_arn,\n",
    "    jobName = \"VOD-POC-Batch-Inference-Job-UserPersonalization_\" + str(round(time.time()*1000)),\n",
    "    roleArn = role_arn,\n",
    "    jobInput = \n",
    "     {\"s3DataSource\": {\"path\": s3input_path}},\n",
    "    jobOutput = \n",
    "     {\"s3DataDestination\":{\"path\": s3output_path}}\n",
    ")\n",
    "batchInferenceJobArn = batchInferenceJobArn['batchInferenceJobArn']"
   ]
  },
  {
   "cell_type": "markdown",
   "metadata": {},
   "source": [
    "Run the while loop below to track the status of the batch recommendation call. This can take around 30 minutes to complete, because Personalize needs to stand up the infrastructure to perform the task. We are testing the feature with a dataset of only 3 users, which is not an efficient use of this mechanism. Normally, you would only use this feature for bulk processing, in which case the efficiencies will become clear."
   ]
  },
  {
   "cell_type": "code",
   "execution_count": null,
   "metadata": {},
   "outputs": [],
   "source": [
    "current_time = datetime.now()\n",
    "print(\"Import Started on: \", current_time.strftime(\"%I:%M:%S %p\"))\n",
    "\n",
    "max_time = time.time() + 6*60*60 # 6 hours\n",
    "while time.time() < max_time:\n",
    "    describe_dataset_inference_job_response = personalize.describe_batch_inference_job(\n",
    "        batchInferenceJobArn = batchInferenceJobArn\n",
    "    )\n",
    "    status = describe_dataset_inference_job_response[\"batchInferenceJob\"]['status']\n",
    "    print(\"DatasetInferenceJob: {}\".format(status))\n",
    "    \n",
    "    if status == \"ACTIVE\" or status == \"CREATE FAILED\":\n",
    "        break\n",
    "        \n",
    "    time.sleep(60)\n",
    "    \n",
    "current_time = datetime.now()\n",
    "print(\"Import Completed on: \", current_time.strftime(\"%I:%M:%S %p\"))"
   ]
  },
  {
   "cell_type": "code",
   "execution_count": null,
   "metadata": {},
   "outputs": [],
   "source": [
    "s3 = boto3.client('s3')\n",
    "export_name = f'{json_input_filename}.out'\n",
    "s3export_name = f'{s3prefix}/results/{export_name}'\n",
    "\n",
    "s3.download_file(s3bucket, s3export_name, f'{data_dir}/{export_name}')"
   ]
  },
  {
   "cell_type": "code",
   "execution_count": null,
   "metadata": {},
   "outputs": [],
   "source": [
    "# Update DF rendering\n",
    "pd.set_option('display.max_rows', 30)\n",
    "with open(data_dir+\"/\"+export_name) as json_file:\n",
    "    # Get the first line and parse it\n",
    "    line = json.loads(json_file.readline())\n",
    "    # Do the same for the other lines\n",
    "    while line:\n",
    "        # extract the user ID \n",
    "        col_header = \"User: \" + line['input']['userId']\n",
    "        # Create a list for all the artists\n",
    "        recommendation_list = []\n",
    "        # Add all the entries\n",
    "        for item in line['output']['recommendedItems']:\n",
    "            post = get_item_by_id(items_df, item)\n",
    "            recommendation_list.append(post)\n",
    "        if 'bulk_recommendations_df' in locals():\n",
    "            new_rec_DF = pd.DataFrame(recommendation_list, columns = [col_header])\n",
    "            bulk_recommendations_df = bulk_recommendations_df.join(new_rec_DF)\n",
    "        else:\n",
    "            bulk_recommendations_df = pd.DataFrame(recommendation_list, columns=[col_header])\n",
    "        try:\n",
    "            line = json.loads(json_file.readline())\n",
    "        except:\n",
    "            line = None\n",
    "bulk_recommendations_df"
   ]
  },
  {
   "cell_type": "markdown",
   "metadata": {},
   "source": [
    "## Wrap up <a class=\"anchor\" id=\"wrapup\"></a>\n",
    "[Back to top](#top)\n",
    "\n",
    "With that you now have a fully working collection of models to tackle various recommendation and personalization scenarios, as well as the skills to manipulate customer data to better integrate with the service, and a knowledge of how to do all this over APIs and by leveraging open source data science tools.\n",
    "\n",
    "Use these notebooks as a guide to getting started with your customers for POCs. As you find missing components, or discover new approaches, make a pull request and provide any additional helpful components that may be missing from this collection.\n",
    "\n",
    "You'll want to make sure that you clean up all of the resources deployed during this POC. We have provided a separate notebook which shows you how to identify and delete the resources in `cleanup.ipynb`."
   ]
  },
  {
   "cell_type": "code",
   "execution_count": null,
   "metadata": {},
   "outputs": [],
   "source": []
  }
 ],
 "metadata": {
  "instance_type": "ml.t3.medium",
  "kernelspec": {
   "display_name": "Python 3 (Data Science)",
   "language": "python",
   "name": "python3__SAGEMAKER_INTERNAL__arn:aws:sagemaker:us-east-1:081325390199:image/datascience-1.0"
  },
  "language_info": {
   "codemirror_mode": {
    "name": "ipython",
    "version": 3
   },
   "file_extension": ".py",
   "mimetype": "text/x-python",
   "name": "python",
   "nbconvert_exporter": "python",
   "pygments_lexer": "ipython3",
   "version": "3.7.10"
  }
 },
 "nbformat": 4,
 "nbformat_minor": 4
}
