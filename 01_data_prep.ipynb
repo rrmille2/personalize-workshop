{
 "cells": [
  {
   "cell_type": "markdown",
   "metadata": {},
   "source": [
    "# Validating and Importing User-Item-Interaction Data <a class=\"anchor\" id=\"top\"></a>\n",
    "\n",
    "In this notebook, you will choose a dataset and prepare it for use with Amazon Personalize.\n",
    "\n",
    "1. [Introduction](#intro)\n",
    "1. [Choose a dataset or data source](#source)\n",
    "1. [Prepare your data](#prepare)\n",
    "1. [Create dataset groups and the interactions dataset](#group_dataset)\n",
    "1. [Configure an S3 bucket and an IAM role](#bucket_role)\n",
    "1. [Import the interactions data](#import)\n",
    "\n",
    "## Introduction <a class=\"anchor\" id=\"intro\"></a>\n",
    "\n",
    "For the most part, the algorithms in Amazon Personalize (called recipes) look to solve different tasks, explained here:\n",
    "\n",
    "1. **User Personalization** - New release that supports ALL HRNN workflows / user personalization needs, it will be what we use here.\n",
    "1. **Personalized-Ranking** - Takes a collection of items and orders them in probable order of interest for a particular user using an HRNN-like approach.\n",
    "1. **SIMS (Similar Items)** - Given one item, recommends other items also interacted with by users (think items in similar baskets rather than items necessarily similar to each other).\n",
    "1. **Popularity-Count** - Recommends the most popular items, if HRNN or HRNN-Metadata do not have an answer (because there are not enough interactions) - this is returned by default.\n",
    "\n",
    "No matter the use case, the algorithms all share a base of learning on user-item-interaction data which is defined by 3 core attributes:\n",
    "\n",
    "1. **UserID** - The user who interacted\n",
    "1. **ItemID** - The item the user interacted with\n",
    "1. **Timestamp** - The time at which the interaction occurred\n",
    "\n",
    "We also support event types and event values defined by:\n",
    "\n",
    "1. **Event Type** - Categorical label to define a type of event (browse, purchased, rated, etc).\n",
    "1. **Event Value** - A value corresponding to the event type that occurred. Generally speaking, we look for normalized values between 0 and 1 over the event types. For example, if there are three phases to complete a transaction (clicked, added-to-cart, and purchased), then there would be an event_value for each phase as 0.33, 0.66, and 1.0 respectfully.\n",
    "\n",
    "The event type and event value fields are additional fields which can be used to filter the data used for training the personalization model. In this particular exercise we will not have an event type or event value (More information on how to use the eventValue with eventValueThreshold in the [documentation](https://docs.aws.amazon.com/personalize/latest/dg/recording-events.html)). \n",
    "\n",
    "## Choose a dataset or data source <a class=\"anchor\" id=\"source\"></a>\n",
    "[Back to top](#top)\n",
    "\n",
    "As we mentioned, the user-item-iteraction data is key for getting started with the service. This means we need to look for use cases that generate that kind of data, a few common examples are:\n",
    "\n",
    "1. Video-on-demand applications\n",
    "1. E-commerce platforms\n",
    "1. Social media aggregators / platforms\n",
    "\n",
    "There are a few guidelines for scoping a problem suitable for Personalize. We recommend the values below as a starting point, although the [official limits](https://docs.aws.amazon.com/personalize/latest/dg/limits.html) lie a little lower.\n",
    "\n",
    "* Authenticated users\n",
    "* At least 50 unique users\n",
    "* At least 100 unique items\n",
    "* At least 2 dozen interactions for each user \n",
    "\n",
    "Most of the time this is easily attainable, and if you are low in one category, you can often make up for it by having a larger number in another category.\n",
    "\n",
    "Generally speaking your data will not arrive in a perfect form for Personalize, and will take some modification to be structured correctly. This notebook guides you through all of that. \n"
   ]
  },
  {
   "cell_type": "markdown",
   "metadata": {},
   "source": [
    "Download the raw data from the designated s3 bucket"
   ]
  },
  {
   "cell_type": "code",
   "execution_count": 1,
   "metadata": {},
   "outputs": [
    {
     "name": "stdout",
     "output_type": "stream",
     "text": [
      "download: s3://rp-personalize/data/raw/recommend_csv.tgz to ./recommend_csv.tgz\n",
      "tar: ._posts.csv: Cannot change ownership to uid 504, gid 50: Operation not permitted\n",
      "tar: posts.csv: Cannot change ownership to uid 504, gid 50: Operation not permitted\n",
      "tar: ._profiles.csv: Cannot change ownership to uid 504, gid 50: Operation not permitted\n",
      "tar: profiles.csv: Cannot change ownership to uid 504, gid 50: Operation not permitted\n",
      "tar: ._reads.csv: Cannot change ownership to uid 504, gid 50: Operation not permitted\n",
      "tar: reads.csv: Cannot change ownership to uid 504, gid 50: Operation not permitted\n",
      "tar: Exiting with failure status due to previous errors\n"
     ]
    }
   ],
   "source": [
    "import os\n",
    "\n",
    "raw_data_dir = \"data/raw\"\n",
    "!mkdir -p $raw_data_dir\n",
    "\n",
    "s3bucket = 'rp-personalize'\n",
    "s3raw_datafile = 'data/raw/recommend_csv.tgz'\n",
    "s3basename = os.path.basename(s3raw_datafile)\n",
    "\n",
    "!(cd $raw_data_dir && aws s3 cp s3://$s3bucket/$s3raw_datafile .)\n",
    "!(cd $raw_data_dir && tar xzf $s3basename)\n",
    "!(cd $raw_data_dir && rm -f $s3basename)\n"
   ]
  },
  {
   "cell_type": "markdown",
   "metadata": {},
   "source": [
    "Take a look at the data files you have downloaded."
   ]
  },
  {
   "cell_type": "code",
   "execution_count": 2,
   "metadata": {},
   "outputs": [
    {
     "name": "stdout",
     "output_type": "stream",
     "text": [
      "total 439132\n",
      "-rw-r--r-- 1 root root 308226061 Oct  5 12:48 posts.csv\n",
      "-rw-r--r-- 1 root root  23004727 Oct  5 12:46 profiles.csv\n",
      "-rw-r--r-- 1 root root  76607759 Oct 13 14:29 rallypoint.tgz\n",
      "-rw-r--r-- 1 root root  41822301 Oct  5 12:46 reads.csv\n"
     ]
    }
   ],
   "source": [
    "!ls -l $raw_data_dir"
   ]
  },
  {
   "cell_type": "markdown",
   "metadata": {},
   "source": [
    "At present not much is known except that we have a few CSV files. "
   ]
  },
  {
   "cell_type": "markdown",
   "metadata": {},
   "source": [
    "## Prepare your data <a class=\"anchor\" id=\"prepare\"></a>\n",
    "[Back to top](#top)\n",
    "\n",
    "The next thing to be done is to load the data and confirm the data is in a good state, then save it to a CSV where it is ready to be used with Amazon Personalize.\n",
    "\n",
    "To get started, import a collection of Python libraries commonly used in data science."
   ]
  },
  {
   "cell_type": "code",
   "execution_count": 3,
   "metadata": {},
   "outputs": [],
   "source": [
    "import time\n",
    "from time import sleep\n",
    "import json\n",
    "from datetime import datetime\n",
    "import boto3\n",
    "import pandas as pd\n",
    "import numpy as np\n",
    "import sagemaker"
   ]
  },
  {
   "cell_type": "code",
   "execution_count": 4,
   "metadata": {},
   "outputs": [],
   "source": [
    "sagemaker.get_execution_role()\n",
    "region = boto3.Session().region_name\n"
   ]
  },
  {
   "cell_type": "markdown",
   "metadata": {},
   "source": [
    "### Be sure and put the Personalize Role that you created here..."
   ]
  },
  {
   "cell_type": "code",
   "execution_count": 5,
   "metadata": {},
   "outputs": [],
   "source": [
    "role_arn = \"arn:aws:iam::662559257807:role/amPersonalizeDataAccessRole\""
   ]
  },
  {
   "cell_type": "markdown",
   "metadata": {},
   "source": [
    "Next, open the data file and take a look at the first rows."
   ]
  },
  {
   "cell_type": "code",
   "execution_count": 6,
   "metadata": {},
   "outputs": [
    {
     "data": {
      "text/html": [
       "<div>\n",
       "<style scoped>\n",
       "    .dataframe tbody tr th:only-of-type {\n",
       "        vertical-align: middle;\n",
       "    }\n",
       "\n",
       "    .dataframe tbody tr th {\n",
       "        vertical-align: top;\n",
       "    }\n",
       "\n",
       "    .dataframe thead th {\n",
       "        text-align: right;\n",
       "    }\n",
       "</style>\n",
       "<table border=\"1\" class=\"dataframe\">\n",
       "  <thead>\n",
       "    <tr style=\"text-align: right;\">\n",
       "      <th></th>\n",
       "      <th>logged_at</th>\n",
       "      <th>profile_id</th>\n",
       "      <th>post_id</th>\n",
       "    </tr>\n",
       "  </thead>\n",
       "  <tbody>\n",
       "    <tr>\n",
       "      <th>0</th>\n",
       "      <td>2021-03-15 00:00:00+00</td>\n",
       "      <td>909996</td>\n",
       "      <td>6823552</td>\n",
       "    </tr>\n",
       "    <tr>\n",
       "      <th>1</th>\n",
       "      <td>2021-03-15 00:00:04+00</td>\n",
       "      <td>1716231</td>\n",
       "      <td>6803240</td>\n",
       "    </tr>\n",
       "    <tr>\n",
       "      <th>2</th>\n",
       "      <td>2021-03-15 00:00:07+00</td>\n",
       "      <td>1423473</td>\n",
       "      <td>162892</td>\n",
       "    </tr>\n",
       "    <tr>\n",
       "      <th>3</th>\n",
       "      <td>2021-03-15 00:00:07+00</td>\n",
       "      <td>1620867</td>\n",
       "      <td>6823347</td>\n",
       "    </tr>\n",
       "    <tr>\n",
       "      <th>4</th>\n",
       "      <td>2021-03-15 00:00:23+00</td>\n",
       "      <td>625376</td>\n",
       "      <td>162892</td>\n",
       "    </tr>\n",
       "  </tbody>\n",
       "</table>\n",
       "</div>"
      ],
      "text/plain": [
       "                logged_at  profile_id  post_id\n",
       "0  2021-03-15 00:00:00+00      909996  6823552\n",
       "1  2021-03-15 00:00:04+00     1716231  6803240\n",
       "2  2021-03-15 00:00:07+00     1423473   162892\n",
       "3  2021-03-15 00:00:07+00     1620867  6823347\n",
       "4  2021-03-15 00:00:23+00      625376   162892"
      ]
     },
     "execution_count": 6,
     "metadata": {},
     "output_type": "execute_result"
    }
   ],
   "source": [
    "df_interactions = pd.read_csv(f'{raw_data_dir}/reads.csv')\n",
    "df_interactions.head(5)"
   ]
  },
  {
   "cell_type": "code",
   "execution_count": 7,
   "metadata": {},
   "outputs": [
    {
     "data": {
      "text/plain": [
       "(940850, 3)"
      ]
     },
     "execution_count": 7,
     "metadata": {},
     "output_type": "execute_result"
    }
   ],
   "source": [
    "df_interactions.shape"
   ]
  },
  {
   "cell_type": "code",
   "execution_count": 8,
   "metadata": {},
   "outputs": [
    {
     "name": "stdout",
     "output_type": "stream",
     "text": [
      "<class 'pandas.core.frame.DataFrame'>\n",
      "RangeIndex: 940850 entries, 0 to 940849\n",
      "Data columns (total 3 columns):\n",
      " #   Column      Non-Null Count   Dtype \n",
      "---  ------      --------------   ----- \n",
      " 0   logged_at   940850 non-null  object\n",
      " 1   profile_id  940850 non-null  int64 \n",
      " 2   post_id     940850 non-null  int64 \n",
      "dtypes: int64(2), object(1)\n",
      "memory usage: 21.5+ MB\n"
     ]
    }
   ],
   "source": [
    "df_interactions.info()"
   ]
  },
  {
   "cell_type": "markdown",
   "metadata": {},
   "source": [
    "This shows that we have a good range of values for `userId` and `movieId`. Next, it is always a good idea to confirm the data format."
   ]
  },
  {
   "cell_type": "markdown",
   "metadata": {},
   "source": [
    "From this, you can see that there are a total of (25,000,095 for full 100836 for small) entries in the dataset, with 4 columns, and each cell stored as int64 format, with the exception of the rating whihch is a float64.\n",
    "\n",
    "The int64 format is clearly suitable for `userId` and `movieId`. However, we need to dive deeper to understand the timestamps in the data. To use Amazon Personalize, you need to save timestamps in [Unix Epoch](https://en.wikipedia.org/wiki/Unix_time) format.\n",
    "\n",
    "Currently, the timestamp values are not human-readable. So let's grab an arbitrary timestamp value and figure out how to interpret it."
   ]
  },
  {
   "cell_type": "markdown",
   "metadata": {},
   "source": [
    "Do a quick sanity check on the transformed dataset by picking an arbitrary timestamp and transforming it to a human-readable format."
   ]
  },
  {
   "cell_type": "code",
   "execution_count": 9,
   "metadata": {},
   "outputs": [],
   "source": [
    "df_interactions['TIMESTAMP'] =  pd.to_datetime(df_interactions['logged_at'])"
   ]
  },
  {
   "cell_type": "code",
   "execution_count": 10,
   "metadata": {},
   "outputs": [],
   "source": [
    "df_interactions.drop('logged_at', axis=1, inplace=True)"
   ]
  },
  {
   "cell_type": "markdown",
   "metadata": {},
   "source": [
    " Amazon Personalize has default column names for users, items, and timestamp.  \n",
    " These default column names are `USER_ID`, `ITEM_ID`, AND `TIMESTAMP`. So modify the dataset to replace the existing column headers with the default headers."
   ]
  },
  {
   "cell_type": "code",
   "execution_count": 11,
   "metadata": {},
   "outputs": [],
   "source": [
    "df_interactions['TIMESTAMP'] = df_interactions['TIMESTAMP'].astype('int64')"
   ]
  },
  {
   "cell_type": "code",
   "execution_count": 12,
   "metadata": {},
   "outputs": [],
   "source": [
    "df_interactions.rename(columns = {'profile_id': 'USER_ID', 'post_id': 'ITEM_ID'}, inplace = True)"
   ]
  },
  {
   "cell_type": "code",
   "execution_count": 13,
   "metadata": {},
   "outputs": [
    {
     "data": {
      "text/html": [
       "<div>\n",
       "<style scoped>\n",
       "    .dataframe tbody tr th:only-of-type {\n",
       "        vertical-align: middle;\n",
       "    }\n",
       "\n",
       "    .dataframe tbody tr th {\n",
       "        vertical-align: top;\n",
       "    }\n",
       "\n",
       "    .dataframe thead th {\n",
       "        text-align: right;\n",
       "    }\n",
       "</style>\n",
       "<table border=\"1\" class=\"dataframe\">\n",
       "  <thead>\n",
       "    <tr style=\"text-align: right;\">\n",
       "      <th></th>\n",
       "      <th>USER_ID</th>\n",
       "      <th>ITEM_ID</th>\n",
       "      <th>TIMESTAMP</th>\n",
       "    </tr>\n",
       "  </thead>\n",
       "  <tbody>\n",
       "    <tr>\n",
       "      <th>0</th>\n",
       "      <td>909996</td>\n",
       "      <td>6823552</td>\n",
       "      <td>1615766400000000000</td>\n",
       "    </tr>\n",
       "    <tr>\n",
       "      <th>1</th>\n",
       "      <td>1716231</td>\n",
       "      <td>6803240</td>\n",
       "      <td>1615766404000000000</td>\n",
       "    </tr>\n",
       "    <tr>\n",
       "      <th>2</th>\n",
       "      <td>1423473</td>\n",
       "      <td>162892</td>\n",
       "      <td>1615766407000000000</td>\n",
       "    </tr>\n",
       "    <tr>\n",
       "      <th>3</th>\n",
       "      <td>1620867</td>\n",
       "      <td>6823347</td>\n",
       "      <td>1615766407000000000</td>\n",
       "    </tr>\n",
       "    <tr>\n",
       "      <th>4</th>\n",
       "      <td>625376</td>\n",
       "      <td>162892</td>\n",
       "      <td>1615766423000000000</td>\n",
       "    </tr>\n",
       "  </tbody>\n",
       "</table>\n",
       "</div>"
      ],
      "text/plain": [
       "   USER_ID  ITEM_ID            TIMESTAMP\n",
       "0   909996  6823552  1615766400000000000\n",
       "1  1716231  6803240  1615766404000000000\n",
       "2  1423473   162892  1615766407000000000\n",
       "3  1620867  6823347  1615766407000000000\n",
       "4   625376   162892  1615766423000000000"
      ]
     },
     "execution_count": 13,
     "metadata": {},
     "output_type": "execute_result"
    }
   ],
   "source": [
    "df_interactions.head()"
   ]
  },
  {
   "cell_type": "code",
   "execution_count": 14,
   "metadata": {},
   "outputs": [
    {
     "name": "stdout",
     "output_type": "stream",
     "text": [
      "<class 'pandas.core.frame.DataFrame'>\n",
      "RangeIndex: 940850 entries, 0 to 940849\n",
      "Data columns (total 3 columns):\n",
      " #   Column     Non-Null Count   Dtype\n",
      "---  ------     --------------   -----\n",
      " 0   USER_ID    940850 non-null  int64\n",
      " 1   ITEM_ID    940850 non-null  int64\n",
      " 2   TIMESTAMP  940850 non-null  int64\n",
      "dtypes: int64(3)\n",
      "memory usage: 21.5 MB\n"
     ]
    }
   ],
   "source": [
    "df_interactions.info()\n"
   ]
  },
  {
   "cell_type": "markdown",
   "metadata": {},
   "source": [
    "That's it! At this point the data is ready to go, and we just need to save it as a CSV file."
   ]
  },
  {
   "cell_type": "code",
   "execution_count": 15,
   "metadata": {},
   "outputs": [],
   "source": [
    "data_dir = './data/'\n",
    "interactions_filename = \"interactions.csv\"\n",
    "df_interactions.to_csv((data_dir+interactions_filename), index=False)"
   ]
  },
  {
   "cell_type": "markdown",
   "metadata": {},
   "source": [
    "## Create dataset groups and the interactions dataset <a class=\"anchor\" id=\"group_dataset\"></a>\n",
    "[Back to top](#top)\n",
    "\n",
    "The highest level of isolation and abstraction with Amazon Personalize is a *dataset group*. Information stored within one of these dataset groups has no impact on any other dataset group or models created from one - they are completely isolated. This allows you to run many experiments and is part of how we keep your models private and fully trained only on your data. \n",
    "\n",
    "Before importing the data prepared earlier, there needs to be a dataset group and a dataset added to it that handles the interactions.\n",
    "\n",
    "Dataset groups can house the following types of information:\n",
    "\n",
    "* User-item-interactions\n",
    "* Event streams (real-time interactions)\n",
    "* User metadata\n",
    "* Item metadata\n",
    "\n",
    "Before we create the dataset group and the dataset for our interaction data, let's validate that your environment can communicate successfully with Amazon Personalize."
   ]
  },
  {
   "cell_type": "code",
   "execution_count": 16,
   "metadata": {},
   "outputs": [],
   "source": [
    "# Configure the SDK to Personalize:\n",
    "personalize = boto3.client('personalize')\n",
    "personalize_runtime = boto3.client('personalize-runtime')\n"
   ]
  },
  {
   "cell_type": "markdown",
   "metadata": {},
   "source": [
    "### Create the dataset group\n",
    "\n",
    "The following cell will create a new dataset group with the name `personalize-poc-movielens`."
   ]
  },
  {
   "cell_type": "code",
   "execution_count": 17,
   "metadata": {},
   "outputs": [
    {
     "name": "stdout",
     "output_type": "stream",
     "text": [
      "{\n",
      "  \"datasetGroupArn\": \"arn:aws:personalize:us-east-1:662559257807:dataset-group/rp-personalize-dsg\",\n",
      "  \"ResponseMetadata\": {\n",
      "    \"RequestId\": \"6c4ad8c5-de61-46fc-b55e-acce767ec196\",\n",
      "    \"HTTPStatusCode\": 200,\n",
      "    \"HTTPHeaders\": {\n",
      "      \"content-type\": \"application/x-amz-json-1.1\",\n",
      "      \"date\": \"Wed, 13 Oct 2021 17:16:48 GMT\",\n",
      "      \"x-amzn-requestid\": \"6c4ad8c5-de61-46fc-b55e-acce767ec196\",\n",
      "      \"content-length\": \"97\",\n",
      "      \"connection\": \"keep-alive\"\n",
      "    },\n",
      "    \"RetryAttempts\": 0\n",
      "  }\n",
      "}\n"
     ]
    }
   ],
   "source": [
    "create_dataset_group_response = personalize.create_dataset_group(\n",
    "    name = \"rp-personalize-dsg\"\n",
    ")\n",
    "\n",
    "dataset_group_arn = create_dataset_group_response['datasetGroupArn']\n",
    "print(json.dumps(create_dataset_group_response, indent=2))"
   ]
  },
  {
   "cell_type": "markdown",
   "metadata": {},
   "source": [
    "Before we can use the dataset group, it must be active. This can take a minute or two. Execute the cell below and wait for it to show the ACTIVE status. It checks the status of the dataset group every minute, up to a maximum of 3 hours."
   ]
  },
  {
   "cell_type": "code",
   "execution_count": 18,
   "metadata": {},
   "outputs": [
    {
     "name": "stdout",
     "output_type": "stream",
     "text": [
      "DatasetGroup: CREATE PENDING\n",
      "DatasetGroup: CREATE PENDING\n",
      "DatasetGroup: CREATE PENDING\n",
      "DatasetGroup: CREATE PENDING\n",
      "DatasetGroup: ACTIVE\n"
     ]
    }
   ],
   "source": [
    "max_time = time.time() + 3*60*60 # 3 hours\n",
    "while time.time() < max_time:\n",
    "    describe_dataset_group_response = personalize.describe_dataset_group(\n",
    "        datasetGroupArn = dataset_group_arn\n",
    "    )\n",
    "    status = describe_dataset_group_response[\"datasetGroup\"][\"status\"]\n",
    "    print(\"DatasetGroup: {}\".format(status))\n",
    "    \n",
    "    if status == \"ACTIVE\" or status == \"CREATE FAILED\":\n",
    "        break\n",
    "        \n",
    "    time.sleep(5)"
   ]
  },
  {
   "cell_type": "markdown",
   "metadata": {},
   "source": [
    "Now that you have a dataset group, you can create a dataset for the interaction data."
   ]
  },
  {
   "cell_type": "markdown",
   "metadata": {},
   "source": [
    "### Create the dataset\n",
    "\n",
    "First, define a schema to tell Amazon Personalize what type of dataset you are uploading. There are several reserved and mandatory keywords required in the schema, based on the type of dataset. More detailed information can be found in the [documentation](https://docs.aws.amazon.com/personalize/latest/dg/how-it-works-dataset-schema.html).\n",
    "\n",
    "Here, you will create a schema for interactions data, which requires the `USER_ID`, `ITEM_ID`, and `TIMESTAMP` fields. These must be defined in the same order in the schema as they appear in the dataset."
   ]
  },
  {
   "cell_type": "code",
   "execution_count": 19,
   "metadata": {},
   "outputs": [
    {
     "name": "stdout",
     "output_type": "stream",
     "text": [
      "{\n",
      "  \"schemaArn\": \"arn:aws:personalize:us-east-1:662559257807:schema/interactions-schema\",\n",
      "  \"ResponseMetadata\": {\n",
      "    \"RequestId\": \"3885c445-f424-486f-90b8-ed242f84515b\",\n",
      "    \"HTTPStatusCode\": 200,\n",
      "    \"HTTPHeaders\": {\n",
      "      \"content-type\": \"application/x-amz-json-1.1\",\n",
      "      \"date\": \"Wed, 13 Oct 2021 17:17:09 GMT\",\n",
      "      \"x-amzn-requestid\": \"3885c445-f424-486f-90b8-ed242f84515b\",\n",
      "      \"content-length\": \"85\",\n",
      "      \"connection\": \"keep-alive\"\n",
      "    },\n",
      "    \"RetryAttempts\": 0\n",
      "  }\n",
      "}\n"
     ]
    }
   ],
   "source": [
    "interactions_schema = schema = {\n",
    "    \"type\": \"record\",\n",
    "    \"name\": \"Interactions\",\n",
    "    \"namespace\": \"com.amazonaws.personalize.schema\",\n",
    "    \"fields\": [\n",
    "        {\n",
    "            \"name\": \"USER_ID\",\n",
    "            \"type\": \"string\"\n",
    "        },\n",
    "        {\n",
    "            \"name\": \"ITEM_ID\",\n",
    "            \"type\": \"string\"\n",
    "        },\n",
    "        {\n",
    "            \"name\": \"TIMESTAMP\",\n",
    "            \"type\": \"long\"\n",
    "        }\n",
    "    ],\n",
    "    \"version\": \"1.0\"\n",
    "}\n",
    "\n",
    "\n",
    "create_schema_response = personalize.create_schema(\n",
    "    name = \"interactions-schema\",\n",
    "    schema = json.dumps(interactions_schema)\n",
    ")\n",
    "\n",
    "interaction_schema_arn = create_schema_response['schemaArn']\n",
    "print(json.dumps(create_schema_response, indent=2))"
   ]
  },
  {
   "cell_type": "markdown",
   "metadata": {},
   "source": [
    "With a schema created, you can create a dataset within the dataset group. Note that this does not load the data yet, it just defines the schema for the data. The data will be loaded a few steps later."
   ]
  },
  {
   "cell_type": "code",
   "execution_count": 20,
   "metadata": {},
   "outputs": [
    {
     "name": "stdout",
     "output_type": "stream",
     "text": [
      "{\n",
      "  \"datasetArn\": \"arn:aws:personalize:us-east-1:662559257807:dataset/rp-personalize-dsg/INTERACTIONS\",\n",
      "  \"ResponseMetadata\": {\n",
      "    \"RequestId\": \"74ddde67-5665-4d8e-84bb-906496c0a3e7\",\n",
      "    \"HTTPStatusCode\": 200,\n",
      "    \"HTTPHeaders\": {\n",
      "      \"content-type\": \"application/x-amz-json-1.1\",\n",
      "      \"date\": \"Wed, 13 Oct 2021 17:17:09 GMT\",\n",
      "      \"x-amzn-requestid\": \"74ddde67-5665-4d8e-84bb-906496c0a3e7\",\n",
      "      \"content-length\": \"99\",\n",
      "      \"connection\": \"keep-alive\"\n",
      "    },\n",
      "    \"RetryAttempts\": 0\n",
      "  }\n",
      "}\n"
     ]
    }
   ],
   "source": [
    "dataset_type = \"INTERACTIONS\"\n",
    "create_dataset_response = personalize.create_dataset(\n",
    "    name = \"rp-interactions-dataset\",\n",
    "    datasetType = dataset_type,\n",
    "    datasetGroupArn = dataset_group_arn,\n",
    "    schemaArn = interaction_schema_arn\n",
    ")\n",
    "\n",
    "interactions_dataset_arn = create_dataset_response['datasetArn']\n",
    "print(json.dumps(create_dataset_response, indent=2))"
   ]
  },
  {
   "cell_type": "markdown",
   "metadata": {},
   "source": [
    "## Configure an S3 bucket and an IAM  role <a class=\"anchor\" id=\"bucket_role\"></a>\n",
    "[Back to top](#top)\n",
    "\n",
    "So far, we have downloaded, manipulated, and saved the data onto the Amazon EBS instance attached to instance running this Jupyter notebook. However, Amazon Personalize will need an S3 bucket to act as the source of your data, as well as IAM roles for accessing that bucket. Let's set all of that up.\n",
    "\n",
    "Use the metadata stored on the instance underlying this Amazon SageMaker notebook, to determine the region it is operating in. If you are using a Jupyter notebook outside of Amazon SageMaker, simply define the region as a string below. The Amazon S3 bucket needs to be in the same region as the Amazon Personalize resources we have been creating so far."
   ]
  },
  {
   "cell_type": "markdown",
   "metadata": {},
   "source": [
    "Amazon S3 bucket names are globally unique. To create a unique bucket name, the code below will append the string `personalizepocvod` to your AWS account number. Then it creates a bucket with this name in the region discovered in the previous cell."
   ]
  },
  {
   "cell_type": "code",
   "execution_count": 21,
   "metadata": {},
   "outputs": [
    {
     "name": "stdout",
     "output_type": "stream",
     "text": [
      "am-tmp2\n",
      "rallypoint\n"
     ]
    }
   ],
   "source": [
    "s3 = boto3.client('s3')\n",
    "s3bucket = 'am-tmp2'\n",
    "s3prefix = 'rallypoint'\n",
    "\n",
    "print(s3bucket)\n",
    "print(s3prefix)"
   ]
  },
  {
   "cell_type": "markdown",
   "metadata": {},
   "source": [
    "### Upload data to S3\n",
    "\n",
    "Now that your Amazon S3 bucket has been created, upload the CSV file of our user-item-interaction data. "
   ]
  },
  {
   "cell_type": "code",
   "execution_count": 22,
   "metadata": {},
   "outputs": [
    {
     "name": "stdout",
     "output_type": "stream",
     "text": [
      "upload: data/interactions.csv to s3://am-tmp2/rallypoint/interactions.csv\n"
     ]
    }
   ],
   "source": [
    "# interactions_file_path = data_dir + \"/\" + interactions_filename\n",
    "# boto3.Session().resource('s3').Bucket(bucket_name).Object(interactions_filename).upload_file(interactions_file_path)\n",
    "# interactions_s3DataPath = \"s3://\"+bucket_name+\"/\"+interactions_filename\n",
    "\n",
    "src_filename = f'{data_dir}{interactions_filename}'\n",
    "interactions_s3filepath = f's3://{s3bucket}/{s3prefix}/{interactions_filename}'\n",
    "\n",
    "!aws s3 cp $src_filename $interactions_s3filepath"
   ]
  },
  {
   "cell_type": "markdown",
   "metadata": {},
   "source": [
    "## Import the Interactions data <a class=\"anchor\" id=\"import\"></a>\n",
    "[Back to top](#top)\n",
    "\n",
    "Earlier you created the dataset group and dataset to house your information, so now you will execute an import job that will load the data from the S3 bucket into the Amazon Personalize dataset. "
   ]
  },
  {
   "cell_type": "code",
   "execution_count": 24,
   "metadata": {},
   "outputs": [
    {
     "name": "stdout",
     "output_type": "stream",
     "text": [
      "{\n",
      "  \"datasetImportJobArn\": \"arn:aws:personalize:us-east-1:662559257807:dataset-import-job/interactions-import\",\n",
      "  \"ResponseMetadata\": {\n",
      "    \"RequestId\": \"0f4855c4-bb19-450e-b670-e9c7edd929da\",\n",
      "    \"HTTPStatusCode\": 200,\n",
      "    \"HTTPHeaders\": {\n",
      "      \"content-type\": \"application/x-amz-json-1.1\",\n",
      "      \"date\": \"Wed, 13 Oct 2021 18:06:56 GMT\",\n",
      "      \"x-amzn-requestid\": \"0f4855c4-bb19-450e-b670-e9c7edd929da\",\n",
      "      \"content-length\": \"107\",\n",
      "      \"connection\": \"keep-alive\"\n",
      "    },\n",
      "    \"RetryAttempts\": 0\n",
      "  }\n",
      "}\n"
     ]
    }
   ],
   "source": [
    "create_dataset_import_job_response = personalize.create_dataset_import_job(\n",
    "    jobName = \"interactions-import\",\n",
    "    datasetArn = interactions_dataset_arn,\n",
    "    dataSource = {\n",
    "        \"dataLocation\": interactions_s3filepath\n",
    "    },\n",
    "    roleArn = role_arn\n",
    ")\n",
    "\n",
    "dataset_import_job_arn = create_dataset_import_job_response['datasetImportJobArn']\n",
    "print(json.dumps(create_dataset_import_job_response, indent=2))"
   ]
  },
  {
   "cell_type": "markdown",
   "metadata": {},
   "source": [
    "Before we can use the dataset, the import job must be active. Execute the cell below and wait for it to show the ACTIVE status. It checks the status of the import job every minute, up to a maximum of 6 hours.\n",
    "\n",
    "Importing the data can take some time, depending on the size of the dataset. In this workshop, the data import job should take around 15 minutes."
   ]
  },
  {
   "cell_type": "code",
   "execution_count": 25,
   "metadata": {},
   "outputs": [
    {
     "name": "stdout",
     "output_type": "stream",
     "text": [
      "DatasetImportJob: CREATE PENDING\n",
      "DatasetImportJob: CREATE PENDING\n",
      "DatasetImportJob: CREATE PENDING\n",
      "DatasetImportJob: CREATE PENDING\n",
      "DatasetImportJob: CREATE IN_PROGRESS\n",
      "DatasetImportJob: CREATE IN_PROGRESS\n",
      "DatasetImportJob: CREATE IN_PROGRESS\n",
      "DatasetImportJob: CREATE IN_PROGRESS\n",
      "DatasetImportJob: CREATE IN_PROGRESS\n",
      "DatasetImportJob: CREATE IN_PROGRESS\n",
      "DatasetImportJob: CREATE IN_PROGRESS\n",
      "DatasetImportJob: CREATE IN_PROGRESS\n",
      "DatasetImportJob: CREATE IN_PROGRESS\n",
      "DatasetImportJob: CREATE IN_PROGRESS\n",
      "DatasetImportJob: CREATE IN_PROGRESS\n",
      "DatasetImportJob: CREATE IN_PROGRESS\n",
      "DatasetImportJob: CREATE IN_PROGRESS\n",
      "DatasetImportJob: CREATE IN_PROGRESS\n",
      "DatasetImportJob: CREATE IN_PROGRESS\n",
      "DatasetImportJob: CREATE IN_PROGRESS\n",
      "DatasetImportJob: CREATE IN_PROGRESS\n",
      "DatasetImportJob: CREATE IN_PROGRESS\n",
      "DatasetImportJob: CREATE IN_PROGRESS\n",
      "DatasetImportJob: CREATE IN_PROGRESS\n",
      "DatasetImportJob: CREATE IN_PROGRESS\n",
      "DatasetImportJob: CREATE IN_PROGRESS\n",
      "DatasetImportJob: CREATE IN_PROGRESS\n",
      "DatasetImportJob: CREATE IN_PROGRESS\n",
      "DatasetImportJob: CREATE IN_PROGRESS\n",
      "DatasetImportJob: CREATE IN_PROGRESS\n",
      "DatasetImportJob: CREATE IN_PROGRESS\n",
      "DatasetImportJob: CREATE IN_PROGRESS\n",
      "DatasetImportJob: CREATE IN_PROGRESS\n",
      "DatasetImportJob: CREATE IN_PROGRESS\n",
      "DatasetImportJob: CREATE IN_PROGRESS\n",
      "DatasetImportJob: CREATE IN_PROGRESS\n",
      "DatasetImportJob: CREATE IN_PROGRESS\n",
      "DatasetImportJob: CREATE IN_PROGRESS\n",
      "DatasetImportJob: CREATE IN_PROGRESS\n",
      "DatasetImportJob: CREATE IN_PROGRESS\n",
      "DatasetImportJob: ACTIVE\n",
      "CPU times: user 160 ms, sys: 18.7 ms, total: 179 ms\n",
      "Wall time: 3min 21s\n"
     ]
    }
   ],
   "source": [
    "%%time\n",
    "\n",
    "max_time = time.time() + 6*60*60 # 6 hours\n",
    "while time.time() < max_time:\n",
    "    describe_dataset_import_job_response = personalize.describe_dataset_import_job(\n",
    "        datasetImportJobArn = dataset_import_job_arn\n",
    "    )\n",
    "    status = describe_dataset_import_job_response[\"datasetImportJob\"]['status']\n",
    "    print(\"DatasetImportJob: {}\".format(status))\n",
    "    \n",
    "    if status == \"ACTIVE\" or status == \"CREATE FAILED\":\n",
    "        break\n",
    "        \n",
    "    time.sleep(5)"
   ]
  },
  {
   "cell_type": "markdown",
   "metadata": {},
   "source": [
    "When the dataset import is active, you are ready to start building models with SIMS, Personalized-Ranking, and User Personalization. This process will continue in other notebooks."
   ]
  },
  {
   "cell_type": "markdown",
   "metadata": {},
   "source": [
    "# Validating and Importing Item Metadata <a class=\"anchor\" id=\"top\"></a>\n",
    "\n",
    "This will allow you to work with filters as well as supporting the `User Personalization` algorithm.\n"
   ]
  },
  {
   "cell_type": "markdown",
   "metadata": {},
   "source": [
    "## Prepare your Item metadata <a class=\"anchor\" id=\"prepare\"></a>\n",
    "[Back to top](#top)\n",
    "\n",
    "Next we load the data and confirm the data is in a good state, then save it to a CSV in S3 where it is ready to be used with Amazon Personalize.\n",
    "\n",
    "To get started, import a collection of Python libraries commonly used in data science."
   ]
  },
  {
   "cell_type": "markdown",
   "metadata": {},
   "source": [
    "Next, open the data file and take a look at the first rows."
   ]
  },
  {
   "cell_type": "code",
   "execution_count": 26,
   "metadata": {},
   "outputs": [
    {
     "data": {
      "text/html": [
       "<div>\n",
       "<style scoped>\n",
       "    .dataframe tbody tr th:only-of-type {\n",
       "        vertical-align: middle;\n",
       "    }\n",
       "\n",
       "    .dataframe tbody tr th {\n",
       "        vertical-align: top;\n",
       "    }\n",
       "\n",
       "    .dataframe thead th {\n",
       "        text-align: right;\n",
       "    }\n",
       "</style>\n",
       "<table border=\"1\" class=\"dataframe\">\n",
       "  <thead>\n",
       "    <tr style=\"text-align: right;\">\n",
       "      <th></th>\n",
       "      <th>post_id</th>\n",
       "      <th>type</th>\n",
       "      <th>ancestry</th>\n",
       "      <th>title</th>\n",
       "      <th>body</th>\n",
       "      <th>active</th>\n",
       "      <th>last_activity_at</th>\n",
       "      <th>profile_id</th>\n",
       "      <th>votes_count</th>\n",
       "      <th>created_at</th>\n",
       "      <th>...</th>\n",
       "      <th>comments_count</th>\n",
       "      <th>r_and_c_count</th>\n",
       "      <th>short_group_url</th>\n",
       "      <th>sponsored_post</th>\n",
       "      <th>root_type</th>\n",
       "      <th>best_of_rp</th>\n",
       "      <th>best_of_rp_setter_id</th>\n",
       "      <th>engagement_locked</th>\n",
       "      <th>command_post_type</th>\n",
       "      <th>qrc_groups</th>\n",
       "    </tr>\n",
       "  </thead>\n",
       "  <tbody>\n",
       "    <tr>\n",
       "      <th>0</th>\n",
       "      <td>6621543</td>\n",
       "      <td>Comment</td>\n",
       "      <td>6084286/6099168</td>\n",
       "      <td>NaN</td>\n",
       "      <td>**redacted contact**  - and where do you get ...</td>\n",
       "      <td>1</td>\n",
       "      <td>NaN</td>\n",
       "      <td>1580444</td>\n",
       "      <td>1</td>\n",
       "      <td>2021-01-01 00:04:27</td>\n",
       "      <td>...</td>\n",
       "      <td>0</td>\n",
       "      <td>0</td>\n",
       "      <td>NaN</td>\n",
       "      <td>0</td>\n",
       "      <td>Question</td>\n",
       "      <td>0</td>\n",
       "      <td>NaN</td>\n",
       "      <td>0</td>\n",
       "      <td>NaN</td>\n",
       "      <td>Retirement,Leadership,Values,Promotions</td>\n",
       "    </tr>\n",
       "    <tr>\n",
       "      <th>1</th>\n",
       "      <td>6621544</td>\n",
       "      <td>Comment</td>\n",
       "      <td>6084286/6619121</td>\n",
       "      <td>NaN</td>\n",
       "      <td>col trinh, most people in the chain of command...</td>\n",
       "      <td>1</td>\n",
       "      <td>NaN</td>\n",
       "      <td>1459261</td>\n",
       "      <td>0</td>\n",
       "      <td>2021-01-01 00:04:33</td>\n",
       "      <td>...</td>\n",
       "      <td>0</td>\n",
       "      <td>0</td>\n",
       "      <td>NaN</td>\n",
       "      <td>0</td>\n",
       "      <td>Question</td>\n",
       "      <td>0</td>\n",
       "      <td>NaN</td>\n",
       "      <td>0</td>\n",
       "      <td>NaN</td>\n",
       "      <td>Retirement,Leadership,Values,Promotions</td>\n",
       "    </tr>\n",
       "    <tr>\n",
       "      <th>2</th>\n",
       "      <td>6621546</td>\n",
       "      <td>Response</td>\n",
       "      <td>6620500</td>\n",
       "      <td>NaN</td>\n",
       "      <td>great accomplishments in difficult times.  wat...</td>\n",
       "      <td>1</td>\n",
       "      <td>NaN</td>\n",
       "      <td>1652327</td>\n",
       "      <td>2</td>\n",
       "      <td>2021-01-01 00:05:29</td>\n",
       "      <td>...</td>\n",
       "      <td>0</td>\n",
       "      <td>0</td>\n",
       "      <td>NaN</td>\n",
       "      <td>0</td>\n",
       "      <td>SharedLink</td>\n",
       "      <td>0</td>\n",
       "      <td>NaN</td>\n",
       "      <td>0</td>\n",
       "      <td>NaN</td>\n",
       "      <td>Awards,Physics,Theoretical Physics,Science</td>\n",
       "    </tr>\n",
       "    <tr>\n",
       "      <th>3</th>\n",
       "      <td>6621547</td>\n",
       "      <td>Comment</td>\n",
       "      <td>6084286/6098802</td>\n",
       "      <td>NaN</td>\n",
       "      <td>**redacted contact**  - i certainly didn't vo...</td>\n",
       "      <td>1</td>\n",
       "      <td>NaN</td>\n",
       "      <td>181760</td>\n",
       "      <td>0</td>\n",
       "      <td>2021-01-01 00:05:34</td>\n",
       "      <td>...</td>\n",
       "      <td>0</td>\n",
       "      <td>0</td>\n",
       "      <td>NaN</td>\n",
       "      <td>0</td>\n",
       "      <td>Question</td>\n",
       "      <td>0</td>\n",
       "      <td>NaN</td>\n",
       "      <td>0</td>\n",
       "      <td>NaN</td>\n",
       "      <td>Retirement,Leadership,Values,Promotions</td>\n",
       "    </tr>\n",
       "    <tr>\n",
       "      <th>4</th>\n",
       "      <td>6621548</td>\n",
       "      <td>Comment</td>\n",
       "      <td>1157569/6592815</td>\n",
       "      <td>NaN</td>\n",
       "      <td>tanana alaska january #### operation jack fros...</td>\n",
       "      <td>1</td>\n",
       "      <td>NaN</td>\n",
       "      <td>1631106</td>\n",
       "      <td>2</td>\n",
       "      <td>2021-01-01 00:05:51</td>\n",
       "      <td>...</td>\n",
       "      <td>0</td>\n",
       "      <td>0</td>\n",
       "      <td>NaN</td>\n",
       "      <td>0</td>\n",
       "      <td>Question</td>\n",
       "      <td>0</td>\n",
       "      <td>NaN</td>\n",
       "      <td>0</td>\n",
       "      <td>NaN</td>\n",
       "      <td>Friends,Memories,Photography</td>\n",
       "    </tr>\n",
       "  </tbody>\n",
       "</table>\n",
       "<p>5 rows × 42 columns</p>\n",
       "</div>"
      ],
      "text/plain": [
       "   post_id      type         ancestry title  \\\n",
       "0  6621543   Comment  6084286/6099168   NaN   \n",
       "1  6621544   Comment  6084286/6619121   NaN   \n",
       "2  6621546  Response          6620500   NaN   \n",
       "3  6621547   Comment  6084286/6098802   NaN   \n",
       "4  6621548   Comment  1157569/6592815   NaN   \n",
       "\n",
       "                                                body  active last_activity_at  \\\n",
       "0   **redacted contact**  - and where do you get ...       1              NaN   \n",
       "1  col trinh, most people in the chain of command...       1              NaN   \n",
       "2  great accomplishments in difficult times.  wat...       1              NaN   \n",
       "3   **redacted contact**  - i certainly didn't vo...       1              NaN   \n",
       "4  tanana alaska january #### operation jack fros...       1              NaN   \n",
       "\n",
       "   profile_id  votes_count           created_at  ... comments_count  \\\n",
       "0     1580444            1  2021-01-01 00:04:27  ...              0   \n",
       "1     1459261            0  2021-01-01 00:04:33  ...              0   \n",
       "2     1652327            2  2021-01-01 00:05:29  ...              0   \n",
       "3      181760            0  2021-01-01 00:05:34  ...              0   \n",
       "4     1631106            2  2021-01-01 00:05:51  ...              0   \n",
       "\n",
       "   r_and_c_count  short_group_url  sponsored_post   root_type best_of_rp  \\\n",
       "0              0              NaN               0    Question          0   \n",
       "1              0              NaN               0    Question          0   \n",
       "2              0              NaN               0  SharedLink          0   \n",
       "3              0              NaN               0    Question          0   \n",
       "4              0              NaN               0    Question          0   \n",
       "\n",
       "  best_of_rp_setter_id engagement_locked command_post_type  \\\n",
       "0                  NaN                 0               NaN   \n",
       "1                  NaN                 0               NaN   \n",
       "2                  NaN                 0               NaN   \n",
       "3                  NaN                 0               NaN   \n",
       "4                  NaN                 0               NaN   \n",
       "\n",
       "                                   qrc_groups  \n",
       "0     Retirement,Leadership,Values,Promotions  \n",
       "1     Retirement,Leadership,Values,Promotions  \n",
       "2  Awards,Physics,Theoretical Physics,Science  \n",
       "3     Retirement,Leadership,Values,Promotions  \n",
       "4                Friends,Memories,Photography  \n",
       "\n",
       "[5 rows x 42 columns]"
      ]
     },
     "execution_count": 26,
     "metadata": {},
     "output_type": "execute_result"
    }
   ],
   "source": [
    "df_items = pd.read_csv(f'{raw_data_dir}/posts.csv')\n",
    "df_items.head(5)"
   ]
  },
  {
   "cell_type": "markdown",
   "metadata": {},
   "source": [
    "This does not really tell us much about the dataset, so we will explore a bit more and look at the raw information. We can see that genres often appear in groups. That is fine for us as Personalize supports this structure."
   ]
  },
  {
   "cell_type": "code",
   "execution_count": 27,
   "metadata": {},
   "outputs": [
    {
     "name": "stdout",
     "output_type": "stream",
     "text": [
      "<class 'pandas.core.frame.DataFrame'>\n",
      "RangeIndex: 387721 entries, 0 to 387720\n",
      "Data columns (total 42 columns):\n",
      " #   Column                  Non-Null Count   Dtype  \n",
      "---  ------                  --------------   -----  \n",
      " 0   post_id                 387721 non-null  int64  \n",
      " 1   type                    387721 non-null  object \n",
      " 2   ancestry                368364 non-null  object \n",
      " 3   title                   3029 non-null    object \n",
      " 4   body                    380390 non-null  object \n",
      " 5   active                  387721 non-null  int64  \n",
      " 6   last_activity_at        19357 non-null   object \n",
      " 7   profile_id              387721 non-null  int64  \n",
      " 8   votes_count             387721 non-null  int64  \n",
      " 9   created_at              387721 non-null  object \n",
      " 10  updated_at              387721 non-null  object \n",
      " 11  up_votes                387721 non-null  int64  \n",
      " 12  down_votes              387721 non-null  int64  \n",
      " 13  popularity              19357 non-null   float64\n",
      " 14  net_votes               387721 non-null  int64  \n",
      " 15  duty_station_meta       236488 non-null  object \n",
      " 16  unit_meta               290498 non-null  object \n",
      " 17  speciality_meta         387721 non-null  object \n",
      " 18  duty_assignment_meta    235138 non-null  object \n",
      " 19  rank_meta               383334 non-null  object \n",
      " 20  branch_meta             387721 non-null  object \n",
      " 21  duplicate               387721 non-null  int64  \n",
      " 22  merged                  387704 non-null  float64\n",
      " 23  original_discussion_id  32 non-null      float64\n",
      " 24  old_root_id             38 non-null      float64\n",
      " 25  responses_count         387721 non-null  int64  \n",
      " 26  slug                    3029 non-null    object \n",
      " 27  link_data               387665 non-null  object \n",
      " 28  command_post            387721 non-null  int64  \n",
      " 29  limited                 386911 non-null  float64\n",
      " 30  views_count             387721 non-null  int64  \n",
      " 31  impressions_count       387721 non-null  int64  \n",
      " 32  comments_count          387721 non-null  int64  \n",
      " 33  r_and_c_count           387721 non-null  int64  \n",
      " 34  short_group_url         187 non-null     object \n",
      " 35  sponsored_post          387721 non-null  int64  \n",
      " 36  root_type               387721 non-null  object \n",
      " 37  best_of_rp              387721 non-null  int64  \n",
      " 38  best_of_rp_setter_id    0 non-null       float64\n",
      " 39  engagement_locked       387721 non-null  int64  \n",
      " 40  command_post_type       140 non-null     float64\n",
      " 41  qrc_groups              359803 non-null  object \n",
      "dtypes: float64(7), int64(17), object(18)\n",
      "memory usage: 124.2+ MB\n"
     ]
    }
   ],
   "source": [
    "df_items.info()"
   ]
  },
  {
   "cell_type": "markdown",
   "metadata": {},
   "source": [
    "From this, you can see that there are a total of (62,000+ for full 9742 for small) entries in the dataset, with 3 columns.\n",
    "\n",
    "Lets look for potential data issues. First we will check for null values."
   ]
  },
  {
   "cell_type": "code",
   "execution_count": 28,
   "metadata": {},
   "outputs": [
    {
     "data": {
      "text/html": [
       "<div>\n",
       "<style scoped>\n",
       "    .dataframe tbody tr th:only-of-type {\n",
       "        vertical-align: middle;\n",
       "    }\n",
       "\n",
       "    .dataframe tbody tr th {\n",
       "        vertical-align: top;\n",
       "    }\n",
       "\n",
       "    .dataframe thead th {\n",
       "        text-align: right;\n",
       "    }\n",
       "</style>\n",
       "<table border=\"1\" class=\"dataframe\">\n",
       "  <thead>\n",
       "    <tr style=\"text-align: right;\">\n",
       "      <th></th>\n",
       "      <th>post_id</th>\n",
       "      <th>net_votes</th>\n",
       "      <th>qrc_groups</th>\n",
       "      <th>created_at</th>\n",
       "    </tr>\n",
       "  </thead>\n",
       "  <tbody>\n",
       "    <tr>\n",
       "      <th>0</th>\n",
       "      <td>6621543</td>\n",
       "      <td>-1</td>\n",
       "      <td>Retirement,Leadership,Values,Promotions</td>\n",
       "      <td>2021-01-01 00:04:27</td>\n",
       "    </tr>\n",
       "    <tr>\n",
       "      <th>1</th>\n",
       "      <td>6621544</td>\n",
       "      <td>0</td>\n",
       "      <td>Retirement,Leadership,Values,Promotions</td>\n",
       "      <td>2021-01-01 00:04:33</td>\n",
       "    </tr>\n",
       "    <tr>\n",
       "      <th>2</th>\n",
       "      <td>6621546</td>\n",
       "      <td>2</td>\n",
       "      <td>Awards,Physics,Theoretical Physics,Science</td>\n",
       "      <td>2021-01-01 00:05:29</td>\n",
       "    </tr>\n",
       "    <tr>\n",
       "      <th>3</th>\n",
       "      <td>6621547</td>\n",
       "      <td>0</td>\n",
       "      <td>Retirement,Leadership,Values,Promotions</td>\n",
       "      <td>2021-01-01 00:05:34</td>\n",
       "    </tr>\n",
       "    <tr>\n",
       "      <th>4</th>\n",
       "      <td>6621548</td>\n",
       "      <td>2</td>\n",
       "      <td>Friends,Memories,Photography</td>\n",
       "      <td>2021-01-01 00:05:51</td>\n",
       "    </tr>\n",
       "  </tbody>\n",
       "</table>\n",
       "</div>"
      ],
      "text/plain": [
       "   post_id  net_votes                                  qrc_groups  \\\n",
       "0  6621543         -1     Retirement,Leadership,Values,Promotions   \n",
       "1  6621544          0     Retirement,Leadership,Values,Promotions   \n",
       "2  6621546          2  Awards,Physics,Theoretical Physics,Science   \n",
       "3  6621547          0     Retirement,Leadership,Values,Promotions   \n",
       "4  6621548          2                Friends,Memories,Photography   \n",
       "\n",
       "            created_at  \n",
       "0  2021-01-01 00:04:27  \n",
       "1  2021-01-01 00:04:33  \n",
       "2  2021-01-01 00:05:29  \n",
       "3  2021-01-01 00:05:34  \n",
       "4  2021-01-01 00:05:51  "
      ]
     },
     "execution_count": 28,
     "metadata": {},
     "output_type": "execute_result"
    }
   ],
   "source": [
    "df_items = df_items[['post_id', 'net_votes', 'qrc_groups', 'created_at']]\n",
    "df_items.head(5)"
   ]
  },
  {
   "cell_type": "markdown",
   "metadata": {},
   "source": [
    "Looks good, we currently have no null values."
   ]
  },
  {
   "cell_type": "markdown",
   "metadata": {},
   "source": [
    "This is a pretty small dataset of just the movieId, title and the list of genres that are applicable to each entry. However there is additional data available in the Movielens dataset. For instance the title includes the year of the movies release. Let's make that another column of metadata."
   ]
  },
  {
   "cell_type": "code",
   "execution_count": 29,
   "metadata": {},
   "outputs": [
    {
     "name": "stdout",
     "output_type": "stream",
     "text": [
      "[(51927, 'Humor'), (28409, 'Quotes'), (26750, 'Motivation'), (26038, 'Inspiration'), (15085, 'American History'), (13599, 'Military History'), (11887, 'Leadership'), (11521, 'Donald Trump'), (11328, 'World History'), (11274, 'Joe Biden')]\n"
     ]
    }
   ],
   "source": [
    "df_items['qrc_groups'] = df_items['qrc_groups'].fillna('')\n",
    "lists = df_items['qrc_groups'].tolist()\n",
    "\n",
    "tags = {}\n",
    "for li in lists:\n",
    "    vals = li.split(',')\n",
    "    for val in vals:\n",
    "        if len(val):\n",
    "            if val in tags:\n",
    "                tags[val] += 1\n",
    "            else:\n",
    "                tags[val] = 0\n",
    "\n",
    "topten = sorted([(value,key) for (key,value) in tags.items()], reverse=True)[0:10]\n",
    "print(topten)\n",
    "\n",
    "for tag in topten:\n",
    "    tag_name = tag[1]\n",
    "    df_items[tag_name] = df_items['qrc_groups'].str.contains(tag_name).astype('int')\n",
    "\n",
    "df_items.drop('qrc_groups', axis=1, inplace=True)"
   ]
  },
  {
   "cell_type": "code",
   "execution_count": 30,
   "metadata": {},
   "outputs": [
    {
     "data": {
      "text/html": [
       "<div>\n",
       "<style scoped>\n",
       "    .dataframe tbody tr th:only-of-type {\n",
       "        vertical-align: middle;\n",
       "    }\n",
       "\n",
       "    .dataframe tbody tr th {\n",
       "        vertical-align: top;\n",
       "    }\n",
       "\n",
       "    .dataframe thead th {\n",
       "        text-align: right;\n",
       "    }\n",
       "</style>\n",
       "<table border=\"1\" class=\"dataframe\">\n",
       "  <thead>\n",
       "    <tr style=\"text-align: right;\">\n",
       "      <th></th>\n",
       "      <th>post_id</th>\n",
       "      <th>net_votes</th>\n",
       "      <th>created_at</th>\n",
       "      <th>Humor</th>\n",
       "      <th>Quotes</th>\n",
       "      <th>Motivation</th>\n",
       "      <th>Inspiration</th>\n",
       "      <th>American History</th>\n",
       "      <th>Military History</th>\n",
       "      <th>Leadership</th>\n",
       "      <th>Donald Trump</th>\n",
       "      <th>World History</th>\n",
       "      <th>Joe Biden</th>\n",
       "    </tr>\n",
       "  </thead>\n",
       "  <tbody>\n",
       "    <tr>\n",
       "      <th>0</th>\n",
       "      <td>6621543</td>\n",
       "      <td>-1</td>\n",
       "      <td>2021-01-01 00:04:27</td>\n",
       "      <td>0</td>\n",
       "      <td>0</td>\n",
       "      <td>0</td>\n",
       "      <td>0</td>\n",
       "      <td>0</td>\n",
       "      <td>0</td>\n",
       "      <td>1</td>\n",
       "      <td>0</td>\n",
       "      <td>0</td>\n",
       "      <td>0</td>\n",
       "    </tr>\n",
       "    <tr>\n",
       "      <th>1</th>\n",
       "      <td>6621544</td>\n",
       "      <td>0</td>\n",
       "      <td>2021-01-01 00:04:33</td>\n",
       "      <td>0</td>\n",
       "      <td>0</td>\n",
       "      <td>0</td>\n",
       "      <td>0</td>\n",
       "      <td>0</td>\n",
       "      <td>0</td>\n",
       "      <td>1</td>\n",
       "      <td>0</td>\n",
       "      <td>0</td>\n",
       "      <td>0</td>\n",
       "    </tr>\n",
       "    <tr>\n",
       "      <th>2</th>\n",
       "      <td>6621546</td>\n",
       "      <td>2</td>\n",
       "      <td>2021-01-01 00:05:29</td>\n",
       "      <td>0</td>\n",
       "      <td>0</td>\n",
       "      <td>0</td>\n",
       "      <td>0</td>\n",
       "      <td>0</td>\n",
       "      <td>0</td>\n",
       "      <td>0</td>\n",
       "      <td>0</td>\n",
       "      <td>0</td>\n",
       "      <td>0</td>\n",
       "    </tr>\n",
       "    <tr>\n",
       "      <th>3</th>\n",
       "      <td>6621547</td>\n",
       "      <td>0</td>\n",
       "      <td>2021-01-01 00:05:34</td>\n",
       "      <td>0</td>\n",
       "      <td>0</td>\n",
       "      <td>0</td>\n",
       "      <td>0</td>\n",
       "      <td>0</td>\n",
       "      <td>0</td>\n",
       "      <td>1</td>\n",
       "      <td>0</td>\n",
       "      <td>0</td>\n",
       "      <td>0</td>\n",
       "    </tr>\n",
       "    <tr>\n",
       "      <th>4</th>\n",
       "      <td>6621548</td>\n",
       "      <td>2</td>\n",
       "      <td>2021-01-01 00:05:51</td>\n",
       "      <td>0</td>\n",
       "      <td>0</td>\n",
       "      <td>0</td>\n",
       "      <td>0</td>\n",
       "      <td>0</td>\n",
       "      <td>0</td>\n",
       "      <td>0</td>\n",
       "      <td>0</td>\n",
       "      <td>0</td>\n",
       "      <td>0</td>\n",
       "    </tr>\n",
       "  </tbody>\n",
       "</table>\n",
       "</div>"
      ],
      "text/plain": [
       "   post_id  net_votes           created_at  Humor  Quotes  Motivation  \\\n",
       "0  6621543         -1  2021-01-01 00:04:27      0       0           0   \n",
       "1  6621544          0  2021-01-01 00:04:33      0       0           0   \n",
       "2  6621546          2  2021-01-01 00:05:29      0       0           0   \n",
       "3  6621547          0  2021-01-01 00:05:34      0       0           0   \n",
       "4  6621548          2  2021-01-01 00:05:51      0       0           0   \n",
       "\n",
       "   Inspiration  American History  Military History  Leadership  Donald Trump  \\\n",
       "0            0                 0                 0           1             0   \n",
       "1            0                 0                 0           1             0   \n",
       "2            0                 0                 0           0             0   \n",
       "3            0                 0                 0           1             0   \n",
       "4            0                 0                 0           0             0   \n",
       "\n",
       "   World History  Joe Biden  \n",
       "0              0          0  \n",
       "1              0          0  \n",
       "2              0          0  \n",
       "3              0          0  \n",
       "4              0          0  "
      ]
     },
     "execution_count": 30,
     "metadata": {},
     "output_type": "execute_result"
    }
   ],
   "source": [
    "df_items.head(5)"
   ]
  },
  {
   "cell_type": "code",
   "execution_count": 31,
   "metadata": {},
   "outputs": [
    {
     "data": {
      "text/html": [
       "<div>\n",
       "<style scoped>\n",
       "    .dataframe tbody tr th:only-of-type {\n",
       "        vertical-align: middle;\n",
       "    }\n",
       "\n",
       "    .dataframe tbody tr th {\n",
       "        vertical-align: top;\n",
       "    }\n",
       "\n",
       "    .dataframe thead th {\n",
       "        text-align: right;\n",
       "    }\n",
       "</style>\n",
       "<table border=\"1\" class=\"dataframe\">\n",
       "  <thead>\n",
       "    <tr style=\"text-align: right;\">\n",
       "      <th></th>\n",
       "      <th>ITEM_ID</th>\n",
       "      <th>net_votes</th>\n",
       "      <th>TIMESTAMP</th>\n",
       "      <th>Humor</th>\n",
       "      <th>Quotes</th>\n",
       "      <th>Motivation</th>\n",
       "      <th>Inspiration</th>\n",
       "      <th>American History</th>\n",
       "      <th>Military History</th>\n",
       "      <th>Leadership</th>\n",
       "      <th>Donald Trump</th>\n",
       "      <th>World History</th>\n",
       "      <th>Joe Biden</th>\n",
       "    </tr>\n",
       "  </thead>\n",
       "  <tbody>\n",
       "    <tr>\n",
       "      <th>0</th>\n",
       "      <td>6621543</td>\n",
       "      <td>-1</td>\n",
       "      <td>2021-01-01 00:04:27</td>\n",
       "      <td>0</td>\n",
       "      <td>0</td>\n",
       "      <td>0</td>\n",
       "      <td>0</td>\n",
       "      <td>0</td>\n",
       "      <td>0</td>\n",
       "      <td>1</td>\n",
       "      <td>0</td>\n",
       "      <td>0</td>\n",
       "      <td>0</td>\n",
       "    </tr>\n",
       "    <tr>\n",
       "      <th>1</th>\n",
       "      <td>6621544</td>\n",
       "      <td>0</td>\n",
       "      <td>2021-01-01 00:04:33</td>\n",
       "      <td>0</td>\n",
       "      <td>0</td>\n",
       "      <td>0</td>\n",
       "      <td>0</td>\n",
       "      <td>0</td>\n",
       "      <td>0</td>\n",
       "      <td>1</td>\n",
       "      <td>0</td>\n",
       "      <td>0</td>\n",
       "      <td>0</td>\n",
       "    </tr>\n",
       "    <tr>\n",
       "      <th>2</th>\n",
       "      <td>6621546</td>\n",
       "      <td>2</td>\n",
       "      <td>2021-01-01 00:05:29</td>\n",
       "      <td>0</td>\n",
       "      <td>0</td>\n",
       "      <td>0</td>\n",
       "      <td>0</td>\n",
       "      <td>0</td>\n",
       "      <td>0</td>\n",
       "      <td>0</td>\n",
       "      <td>0</td>\n",
       "      <td>0</td>\n",
       "      <td>0</td>\n",
       "    </tr>\n",
       "    <tr>\n",
       "      <th>3</th>\n",
       "      <td>6621547</td>\n",
       "      <td>0</td>\n",
       "      <td>2021-01-01 00:05:34</td>\n",
       "      <td>0</td>\n",
       "      <td>0</td>\n",
       "      <td>0</td>\n",
       "      <td>0</td>\n",
       "      <td>0</td>\n",
       "      <td>0</td>\n",
       "      <td>1</td>\n",
       "      <td>0</td>\n",
       "      <td>0</td>\n",
       "      <td>0</td>\n",
       "    </tr>\n",
       "    <tr>\n",
       "      <th>4</th>\n",
       "      <td>6621548</td>\n",
       "      <td>2</td>\n",
       "      <td>2021-01-01 00:05:51</td>\n",
       "      <td>0</td>\n",
       "      <td>0</td>\n",
       "      <td>0</td>\n",
       "      <td>0</td>\n",
       "      <td>0</td>\n",
       "      <td>0</td>\n",
       "      <td>0</td>\n",
       "      <td>0</td>\n",
       "      <td>0</td>\n",
       "      <td>0</td>\n",
       "    </tr>\n",
       "  </tbody>\n",
       "</table>\n",
       "</div>"
      ],
      "text/plain": [
       "   ITEM_ID  net_votes            TIMESTAMP  Humor  Quotes  Motivation  \\\n",
       "0  6621543         -1  2021-01-01 00:04:27      0       0           0   \n",
       "1  6621544          0  2021-01-01 00:04:33      0       0           0   \n",
       "2  6621546          2  2021-01-01 00:05:29      0       0           0   \n",
       "3  6621547          0  2021-01-01 00:05:34      0       0           0   \n",
       "4  6621548          2  2021-01-01 00:05:51      0       0           0   \n",
       "\n",
       "   Inspiration  American History  Military History  Leadership  Donald Trump  \\\n",
       "0            0                 0                 0           1             0   \n",
       "1            0                 0                 0           1             0   \n",
       "2            0                 0                 0           0             0   \n",
       "3            0                 0                 0           1             0   \n",
       "4            0                 0                 0           0             0   \n",
       "\n",
       "   World History  Joe Biden  \n",
       "0              0          0  \n",
       "1              0          0  \n",
       "2              0          0  \n",
       "3              0          0  \n",
       "4              0          0  "
      ]
     },
     "execution_count": 31,
     "metadata": {},
     "output_type": "execute_result"
    }
   ],
   "source": [
    "df_items.rename(columns = {'post_id': 'ITEM_ID', 'created_at': 'TIMESTAMP'}, inplace = True)\n",
    "df_items.head(5)"
   ]
  },
  {
   "cell_type": "code",
   "execution_count": 32,
   "metadata": {},
   "outputs": [
    {
     "data": {
      "text/html": [
       "<div>\n",
       "<style scoped>\n",
       "    .dataframe tbody tr th:only-of-type {\n",
       "        vertical-align: middle;\n",
       "    }\n",
       "\n",
       "    .dataframe tbody tr th {\n",
       "        vertical-align: top;\n",
       "    }\n",
       "\n",
       "    .dataframe thead th {\n",
       "        text-align: right;\n",
       "    }\n",
       "</style>\n",
       "<table border=\"1\" class=\"dataframe\">\n",
       "  <thead>\n",
       "    <tr style=\"text-align: right;\">\n",
       "      <th></th>\n",
       "      <th>ITEM_ID</th>\n",
       "      <th>net_votes</th>\n",
       "      <th>TIMESTAMP</th>\n",
       "      <th>Humor</th>\n",
       "      <th>Quotes</th>\n",
       "      <th>Motivation</th>\n",
       "      <th>Inspiration</th>\n",
       "      <th>American_History</th>\n",
       "      <th>Military_History</th>\n",
       "      <th>Leadership</th>\n",
       "      <th>Donald_Trump</th>\n",
       "      <th>World_History</th>\n",
       "      <th>Joe_Biden</th>\n",
       "    </tr>\n",
       "  </thead>\n",
       "  <tbody>\n",
       "    <tr>\n",
       "      <th>0</th>\n",
       "      <td>6621543</td>\n",
       "      <td>-1</td>\n",
       "      <td>2021-01-01 00:04:27</td>\n",
       "      <td>0</td>\n",
       "      <td>0</td>\n",
       "      <td>0</td>\n",
       "      <td>0</td>\n",
       "      <td>0</td>\n",
       "      <td>0</td>\n",
       "      <td>1</td>\n",
       "      <td>0</td>\n",
       "      <td>0</td>\n",
       "      <td>0</td>\n",
       "    </tr>\n",
       "    <tr>\n",
       "      <th>1</th>\n",
       "      <td>6621544</td>\n",
       "      <td>0</td>\n",
       "      <td>2021-01-01 00:04:33</td>\n",
       "      <td>0</td>\n",
       "      <td>0</td>\n",
       "      <td>0</td>\n",
       "      <td>0</td>\n",
       "      <td>0</td>\n",
       "      <td>0</td>\n",
       "      <td>1</td>\n",
       "      <td>0</td>\n",
       "      <td>0</td>\n",
       "      <td>0</td>\n",
       "    </tr>\n",
       "    <tr>\n",
       "      <th>2</th>\n",
       "      <td>6621546</td>\n",
       "      <td>2</td>\n",
       "      <td>2021-01-01 00:05:29</td>\n",
       "      <td>0</td>\n",
       "      <td>0</td>\n",
       "      <td>0</td>\n",
       "      <td>0</td>\n",
       "      <td>0</td>\n",
       "      <td>0</td>\n",
       "      <td>0</td>\n",
       "      <td>0</td>\n",
       "      <td>0</td>\n",
       "      <td>0</td>\n",
       "    </tr>\n",
       "    <tr>\n",
       "      <th>3</th>\n",
       "      <td>6621547</td>\n",
       "      <td>0</td>\n",
       "      <td>2021-01-01 00:05:34</td>\n",
       "      <td>0</td>\n",
       "      <td>0</td>\n",
       "      <td>0</td>\n",
       "      <td>0</td>\n",
       "      <td>0</td>\n",
       "      <td>0</td>\n",
       "      <td>1</td>\n",
       "      <td>0</td>\n",
       "      <td>0</td>\n",
       "      <td>0</td>\n",
       "    </tr>\n",
       "    <tr>\n",
       "      <th>4</th>\n",
       "      <td>6621548</td>\n",
       "      <td>2</td>\n",
       "      <td>2021-01-01 00:05:51</td>\n",
       "      <td>0</td>\n",
       "      <td>0</td>\n",
       "      <td>0</td>\n",
       "      <td>0</td>\n",
       "      <td>0</td>\n",
       "      <td>0</td>\n",
       "      <td>0</td>\n",
       "      <td>0</td>\n",
       "      <td>0</td>\n",
       "      <td>0</td>\n",
       "    </tr>\n",
       "  </tbody>\n",
       "</table>\n",
       "</div>"
      ],
      "text/plain": [
       "   ITEM_ID  net_votes            TIMESTAMP  Humor  Quotes  Motivation  \\\n",
       "0  6621543         -1  2021-01-01 00:04:27      0       0           0   \n",
       "1  6621544          0  2021-01-01 00:04:33      0       0           0   \n",
       "2  6621546          2  2021-01-01 00:05:29      0       0           0   \n",
       "3  6621547          0  2021-01-01 00:05:34      0       0           0   \n",
       "4  6621548          2  2021-01-01 00:05:51      0       0           0   \n",
       "\n",
       "   Inspiration  American_History  Military_History  Leadership  Donald_Trump  \\\n",
       "0            0                 0                 0           1             0   \n",
       "1            0                 0                 0           1             0   \n",
       "2            0                 0                 0           0             0   \n",
       "3            0                 0                 0           1             0   \n",
       "4            0                 0                 0           0             0   \n",
       "\n",
       "   World_History  Joe_Biden  \n",
       "0              0          0  \n",
       "1              0          0  \n",
       "2              0          0  \n",
       "3              0          0  \n",
       "4              0          0  "
      ]
     },
     "execution_count": 32,
     "metadata": {},
     "output_type": "execute_result"
    }
   ],
   "source": [
    "# column names must not contain spaces\n",
    "df_items.rename(columns = {'Donald Trump': 'Donald_Trump', 'Joe Biden': 'Joe_Biden', 'World History': 'World_History', 'American History': 'American_History', 'Military History': 'Military_History'}, inplace = True)\n",
    "df_items.head(5)"
   ]
  },
  {
   "cell_type": "code",
   "execution_count": 33,
   "metadata": {},
   "outputs": [
    {
     "name": "stdout",
     "output_type": "stream",
     "text": [
      "<class 'pandas.core.frame.DataFrame'>\n",
      "RangeIndex: 387721 entries, 0 to 387720\n",
      "Data columns (total 13 columns):\n",
      " #   Column            Non-Null Count   Dtype \n",
      "---  ------            --------------   ----- \n",
      " 0   ITEM_ID           387721 non-null  int64 \n",
      " 1   net_votes         387721 non-null  int64 \n",
      " 2   TIMESTAMP         387721 non-null  object\n",
      " 3   Humor             387721 non-null  int64 \n",
      " 4   Quotes            387721 non-null  int64 \n",
      " 5   Motivation        387721 non-null  int64 \n",
      " 6   Inspiration       387721 non-null  int64 \n",
      " 7   American_History  387721 non-null  int64 \n",
      " 8   Military_History  387721 non-null  int64 \n",
      " 9   Leadership        387721 non-null  int64 \n",
      " 10  Donald_Trump      387721 non-null  int64 \n",
      " 11  World_History     387721 non-null  int64 \n",
      " 12  Joe_Biden         387721 non-null  int64 \n",
      "dtypes: int64(12), object(1)\n",
      "memory usage: 38.5+ MB\n"
     ]
    }
   ],
   "source": [
    "df_items.info()"
   ]
  },
  {
   "cell_type": "code",
   "execution_count": 34,
   "metadata": {},
   "outputs": [
    {
     "name": "stdout",
     "output_type": "stream",
     "text": [
      "<class 'pandas.core.frame.DataFrame'>\n",
      "RangeIndex: 387721 entries, 0 to 387720\n",
      "Data columns (total 13 columns):\n",
      " #   Column            Non-Null Count   Dtype\n",
      "---  ------            --------------   -----\n",
      " 0   ITEM_ID           387721 non-null  int64\n",
      " 1   net_votes         387721 non-null  int64\n",
      " 2   TIMESTAMP         387721 non-null  int64\n",
      " 3   Humor             387721 non-null  int64\n",
      " 4   Quotes            387721 non-null  int64\n",
      " 5   Motivation        387721 non-null  int64\n",
      " 6   Inspiration       387721 non-null  int64\n",
      " 7   American_History  387721 non-null  int64\n",
      " 8   Military_History  387721 non-null  int64\n",
      " 9   Leadership        387721 non-null  int64\n",
      " 10  Donald_Trump      387721 non-null  int64\n",
      " 11  World_History     387721 non-null  int64\n",
      " 12  Joe_Biden         387721 non-null  int64\n",
      "dtypes: int64(13)\n",
      "memory usage: 38.5 MB\n"
     ]
    }
   ],
   "source": [
    "df_items['TIMESTAMP'] = pd.to_datetime(df_items['TIMESTAMP'])\n",
    "df_items['TIMESTAMP'] = df_items['TIMESTAMP'].astype('int64')\n",
    "df_items.info()"
   ]
  },
  {
   "cell_type": "code",
   "execution_count": 35,
   "metadata": {},
   "outputs": [],
   "source": [
    "items_filename = \"item-meta.csv\"\n",
    "df_items.to_csv((data_dir+\"/\"+items_filename), index=False)"
   ]
  },
  {
   "cell_type": "markdown",
   "metadata": {},
   "source": [
    "### Create the dataset\n",
    "\n",
    "First, define a schema to tell Amazon Personalize what type of dataset you are uploading. There are several reserved and mandatory keywords required in the schema, based on the type of dataset. More detailed information can be found in the [documentation](https://docs.aws.amazon.com/personalize/latest/dg/how-it-works-dataset-schema.html).\n",
    "\n",
    "Here, you will create a schema for item metadata data, and we define the `ITEM_ID`, `GENRE`, `YEAR`, and `CREATION_TIMESTAMP` fields. These must be defined in the same order in the schema as they appear in the dataset."
   ]
  },
  {
   "cell_type": "code",
   "execution_count": 36,
   "metadata": {},
   "outputs": [
    {
     "name": "stdout",
     "output_type": "stream",
     "text": [
      "{\n",
      "  \"schemaArn\": \"arn:aws:personalize:us-east-1:662559257807:schema/items-schema\",\n",
      "  \"ResponseMetadata\": {\n",
      "    \"RequestId\": \"049188f5-5f65-4c18-bf02-29ef32636593\",\n",
      "    \"HTTPStatusCode\": 200,\n",
      "    \"HTTPHeaders\": {\n",
      "      \"content-type\": \"application/x-amz-json-1.1\",\n",
      "      \"date\": \"Wed, 13 Oct 2021 18:11:04 GMT\",\n",
      "      \"x-amzn-requestid\": \"049188f5-5f65-4c18-bf02-29ef32636593\",\n",
      "      \"content-length\": \"78\",\n",
      "      \"connection\": \"keep-alive\"\n",
      "    },\n",
      "    \"RetryAttempts\": 0\n",
      "  }\n",
      "}\n"
     ]
    }
   ],
   "source": [
    "items_schema = {\n",
    "    \"type\": \"record\",\n",
    "    \"name\": \"Items\",\n",
    "    \"namespace\": \"com.amazonaws.personalize.schema\",\n",
    "    \"fields\": [\n",
    "        {\n",
    "            \"name\": \"ITEM_ID\",\n",
    "            \"type\": \"string\"\n",
    "        },\n",
    "        {\n",
    "            \"name\": \"net_votes\",\n",
    "            \"type\": \"long\"\n",
    "        },\n",
    "        {\n",
    "            \"name\": \"Humor\",\n",
    "            \"type\": \"int\",\n",
    "            \"categorical\": True\n",
    "        },\n",
    "        {\n",
    "            \"name\": \"Quotes\",\n",
    "            \"type\": \"int\",\n",
    "            \"categorical\": True\n",
    "        },\n",
    "        {\n",
    "            \"name\": \"Motivation\",\n",
    "            \"type\": \"int\",\n",
    "            \"categorical\": True\n",
    "        },\n",
    "        {\n",
    "            \"name\": \"Inspiration\",\n",
    "            \"type\": \"int\",\n",
    "            \"categorical\": True\n",
    "        },\n",
    "        {\n",
    "            \"name\": \"American_History\",\n",
    "            \"type\": \"int\",\n",
    "            \"categorical\": True\n",
    "        },\n",
    "        {\n",
    "            \"name\": \"Military_History\",\n",
    "            \"type\": \"int\",\n",
    "            \"categorical\": True\n",
    "        },\n",
    "        {\n",
    "            \"name\": \"Leadership\",\n",
    "            \"type\": \"int\",\n",
    "            \"categorical\": True\n",
    "        },\n",
    "        {\n",
    "            \"name\": \"Donald_Trump\",\n",
    "            \"type\": \"int\",\n",
    "            \"categorical\": True\n",
    "        },\n",
    "        {\n",
    "            \"name\": \"World_History\",\n",
    "            \"type\": \"int\",\n",
    "            \"categorical\": True\n",
    "        },\n",
    "        {\n",
    "            \"name\": \"Joe_Biden\",\n",
    "            \"type\": \"int\",\n",
    "            \"categorical\": True\n",
    "        },\n",
    "        {\n",
    "            \"name\": \"TIMESTAMP\",\n",
    "            \"type\": \"long\"\n",
    "        }\n",
    "    ],\n",
    "    \"version\": \"1.0\"\n",
    "}\n",
    "\n",
    "create_schema_response = personalize.create_schema(\n",
    "    name = \"items-schema\",\n",
    "    schema = json.dumps(items_schema)\n",
    ")\n",
    "\n",
    "items_metadataschema_arn = create_schema_response['schemaArn']\n",
    "print(json.dumps(create_schema_response, indent=2))"
   ]
  },
  {
   "cell_type": "markdown",
   "metadata": {},
   "source": [
    "With a schema created, you can create a dataset within the dataset group. Note that this does not load the data yet, but creates a schema of what the data looks like. We will upload the data a few steps later."
   ]
  },
  {
   "cell_type": "code",
   "execution_count": 37,
   "metadata": {},
   "outputs": [
    {
     "name": "stdout",
     "output_type": "stream",
     "text": [
      "{\n",
      "  \"datasetArn\": \"arn:aws:personalize:us-east-1:662559257807:dataset/rp-personalize-dsg/ITEMS\",\n",
      "  \"ResponseMetadata\": {\n",
      "    \"RequestId\": \"522e5b1d-2191-4867-a9c4-293ae52e206e\",\n",
      "    \"HTTPStatusCode\": 200,\n",
      "    \"HTTPHeaders\": {\n",
      "      \"content-type\": \"application/x-amz-json-1.1\",\n",
      "      \"date\": \"Wed, 13 Oct 2021 18:11:10 GMT\",\n",
      "      \"x-amzn-requestid\": \"522e5b1d-2191-4867-a9c4-293ae52e206e\",\n",
      "      \"content-length\": \"92\",\n",
      "      \"connection\": \"keep-alive\"\n",
      "    },\n",
      "    \"RetryAttempts\": 0\n",
      "  }\n",
      "}\n"
     ]
    }
   ],
   "source": [
    "dataset_type = \"ITEMS\"\n",
    "create_dataset_response = personalize.create_dataset(\n",
    "    name = \"items-metadata-dataset\",\n",
    "    datasetType = dataset_type,\n",
    "    datasetGroupArn = dataset_group_arn,\n",
    "    schemaArn = items_metadataschema_arn\n",
    ")\n",
    "\n",
    "items_dataset_arn = create_dataset_response['datasetArn']\n",
    "print(json.dumps(create_dataset_response, indent=2))"
   ]
  },
  {
   "cell_type": "markdown",
   "metadata": {},
   "source": [
    "### Upload data to S3\n",
    "\n",
    "We upload the the CSV file of our user-item-interaction data to the S3 bucket we created previously. "
   ]
  },
  {
   "cell_type": "code",
   "execution_count": 38,
   "metadata": {},
   "outputs": [
    {
     "name": "stdout",
     "output_type": "stream",
     "text": [
      "upload: data/item-meta.csv to s3://am-tmp2/rallypoint/item-meta.csv\n"
     ]
    }
   ],
   "source": [
    "src_filename = f'{data_dir}{items_filename}'\n",
    "items_s3filepath = f's3://{s3bucket}/{s3prefix}/{items_filename}'\n",
    "\n",
    "!aws s3 cp $src_filename $items_s3filepath"
   ]
  },
  {
   "cell_type": "markdown",
   "metadata": {},
   "source": [
    "## Import the Items metadata <a class=\"anchor\" id=\"import\"></a>\n",
    "[Back to top](#top)\n",
    "\n",
    "Earlier you created the dataset group and dataset to house your information, now you will execute an import job that will load the data from the S3 bucket into the Amazon Personalize dataset. "
   ]
  },
  {
   "cell_type": "code",
   "execution_count": 40,
   "metadata": {},
   "outputs": [
    {
     "name": "stdout",
     "output_type": "stream",
     "text": [
      "{\n",
      "  \"datasetImportJobArn\": \"arn:aws:personalize:us-east-1:662559257807:dataset-import-job/rp-item-metadata-import\",\n",
      "  \"ResponseMetadata\": {\n",
      "    \"RequestId\": \"16b96226-afd9-41cf-8c46-33a052915e44\",\n",
      "    \"HTTPStatusCode\": 200,\n",
      "    \"HTTPHeaders\": {\n",
      "      \"content-type\": \"application/x-amz-json-1.1\",\n",
      "      \"date\": \"Wed, 13 Oct 2021 18:12:14 GMT\",\n",
      "      \"x-amzn-requestid\": \"16b96226-afd9-41cf-8c46-33a052915e44\",\n",
      "      \"content-length\": \"111\",\n",
      "      \"connection\": \"keep-alive\"\n",
      "    },\n",
      "    \"RetryAttempts\": 0\n",
      "  }\n",
      "}\n"
     ]
    }
   ],
   "source": [
    "create_dataset_import_job_response = personalize.create_dataset_import_job(\n",
    "    jobName = \"rp-item-metadata-import\",\n",
    "    datasetArn = items_dataset_arn,\n",
    "    dataSource = {\n",
    "        \"dataLocation\": items_s3filepath\n",
    "    },\n",
    "    roleArn = role_arn\n",
    ")\n",
    "\n",
    "dataset_import_job_arn = create_dataset_import_job_response['datasetImportJobArn']\n",
    "print(json.dumps(create_dataset_import_job_response, indent=2))"
   ]
  },
  {
   "cell_type": "markdown",
   "metadata": {},
   "source": [
    "Before we can use the dataset, the import job must be active. Execute the cell below and wait for it to show the ACTIVE status. It checks the status of the import job every minute, up to a maximum of 6 hours.\n",
    "\n",
    "Importing the data can take some time, depending on the size of the dataset. In this workshop, the data import job should take around 15 minutes."
   ]
  },
  {
   "cell_type": "code",
   "execution_count": 41,
   "metadata": {},
   "outputs": [
    {
     "name": "stdout",
     "output_type": "stream",
     "text": [
      "DatasetImportJob: CREATE PENDING\n",
      "DatasetImportJob: CREATE IN_PROGRESS\n",
      "DatasetImportJob: CREATE IN_PROGRESS\n",
      "DatasetImportJob: CREATE IN_PROGRESS\n",
      "DatasetImportJob: CREATE IN_PROGRESS\n",
      "DatasetImportJob: CREATE IN_PROGRESS\n",
      "DatasetImportJob: CREATE IN_PROGRESS\n",
      "DatasetImportJob: CREATE IN_PROGRESS\n",
      "DatasetImportJob: ACTIVE\n",
      "CPU times: user 43.3 ms, sys: 4.18 ms, total: 47.5 ms\n",
      "Wall time: 4min\n"
     ]
    }
   ],
   "source": [
    "%%time\n",
    "\n",
    "max_time = time.time() + 6*60*60 # 6 hours\n",
    "while time.time() < max_time:\n",
    "    describe_dataset_import_job_response = personalize.describe_dataset_import_job(\n",
    "        datasetImportJobArn = dataset_import_job_arn\n",
    "    )\n",
    "    status = describe_dataset_import_job_response[\"datasetImportJob\"]['status']\n",
    "    print(\"DatasetImportJob: {}\".format(status))\n",
    "    \n",
    "    if status == \"ACTIVE\" or status == \"CREATE FAILED\":\n",
    "        break\n",
    "        \n",
    "    time.sleep(30)"
   ]
  },
  {
   "cell_type": "markdown",
   "metadata": {},
   "source": [
    "# Validating and Importing User Metadata <a class=\"anchor\" id=\"top\"></a>\n",
    "\n",
    "This will allow you to work with filters as well as supporting the `User Personalization` algorithm.\n"
   ]
  },
  {
   "cell_type": "code",
   "execution_count": 42,
   "metadata": {},
   "outputs": [
    {
     "name": "stderr",
     "output_type": "stream",
     "text": [
      "/opt/conda/lib/python3.7/site-packages/IPython/core/interactiveshell.py:3063: DtypeWarning: Columns (30) have mixed types.Specify dtype option on import or set low_memory=False.\n",
      "  interactivity=interactivity, compiler=compiler, result=result)\n"
     ]
    },
    {
     "data": {
      "text/html": [
       "<div>\n",
       "<style scoped>\n",
       "    .dataframe tbody tr th:only-of-type {\n",
       "        vertical-align: middle;\n",
       "    }\n",
       "\n",
       "    .dataframe tbody tr th {\n",
       "        vertical-align: top;\n",
       "    }\n",
       "\n",
       "    .dataframe thead th {\n",
       "        text-align: right;\n",
       "    }\n",
       "</style>\n",
       "<table border=\"1\" class=\"dataframe\">\n",
       "  <thead>\n",
       "    <tr style=\"text-align: right;\">\n",
       "      <th></th>\n",
       "      <th>profile_id</th>\n",
       "      <th>marital_status</th>\n",
       "      <th>age</th>\n",
       "      <th>gender</th>\n",
       "      <th>office_level</th>\n",
       "      <th>rank</th>\n",
       "      <th>member_type</th>\n",
       "      <th>civilian_title</th>\n",
       "      <th>created_at</th>\n",
       "      <th>branch_component</th>\n",
       "      <th>...</th>\n",
       "      <th>suspended_by</th>\n",
       "      <th>member_admin_stars</th>\n",
       "      <th>academic_availability</th>\n",
       "      <th>goal_type</th>\n",
       "      <th>job_score</th>\n",
       "      <th>education_score</th>\n",
       "      <th>financial_score</th>\n",
       "      <th>member_unit_name</th>\n",
       "      <th>member_unit_link</th>\n",
       "      <th>profile_groups</th>\n",
       "    </tr>\n",
       "  </thead>\n",
       "  <tbody>\n",
       "    <tr>\n",
       "      <th>0</th>\n",
       "      <td>604</td>\n",
       "      <td>Married</td>\n",
       "      <td>44.0</td>\n",
       "      <td>Male</td>\n",
       "      <td>18A: Special Forces Officer</td>\n",
       "      <td>LTC</td>\n",
       "      <td>Servicemember</td>\n",
       "      <td>Board Member</td>\n",
       "      <td>2012-08-10 13:42:36</td>\n",
       "      <td>Reserve</td>\n",
       "      <td>...</td>\n",
       "      <td>--</td>\n",
       "      <td>4</td>\n",
       "      <td>0000-00-00 00:00:00</td>\n",
       "      <td>old_friends,employment_transition</td>\n",
       "      <td>0.000000</td>\n",
       "      <td>0.014041</td>\n",
       "      <td>0.014739</td>\n",
       "      <td>DIU, OSD</td>\n",
       "      <td>https://www.rallypoint.com/units/diu-defense-i...</td>\n",
       "      <td>Travel,Military History,Hiking,Formula 1,Talen...</td>\n",
       "    </tr>\n",
       "    <tr>\n",
       "      <th>1</th>\n",
       "      <td>605</td>\n",
       "      <td>Married</td>\n",
       "      <td>NaN</td>\n",
       "      <td>Male</td>\n",
       "      <td>13A: Field Artillery Officer</td>\n",
       "      <td>CPT</td>\n",
       "      <td>Veteran</td>\n",
       "      <td>Co-Founder</td>\n",
       "      <td>2012-08-10 14:33:07</td>\n",
       "      <td>Active</td>\n",
       "      <td>...</td>\n",
       "      <td>--</td>\n",
       "      <td>4</td>\n",
       "      <td>0000-00-00 00:00:00</td>\n",
       "      <td>new_people,veteran_topics</td>\n",
       "      <td>0.000000</td>\n",
       "      <td>0.013838</td>\n",
       "      <td>0.023000</td>\n",
       "      <td>Fort Knox WTBN, NRMC (WTC), WTC, MEDCOM</td>\n",
       "      <td>https://www.rallypoint.com/units/fort-knox-wtb...</td>\n",
       "      <td>Education,Military Career,Promotions,Mentorshi...</td>\n",
       "    </tr>\n",
       "    <tr>\n",
       "      <th>2</th>\n",
       "      <td>607</td>\n",
       "      <td>Married</td>\n",
       "      <td>39.0</td>\n",
       "      <td>Male</td>\n",
       "      <td>63AX: Acquisition Manager</td>\n",
       "      <td>Capt</td>\n",
       "      <td>Veteran</td>\n",
       "      <td>Vice President of Account Management</td>\n",
       "      <td>2012-08-10 18:11:56</td>\n",
       "      <td>Active</td>\n",
       "      <td>...</td>\n",
       "      <td>--</td>\n",
       "      <td>0</td>\n",
       "      <td>0000-00-00 00:00:00</td>\n",
       "      <td>civilian_career</td>\n",
       "      <td>0.430835</td>\n",
       "      <td>0.037638</td>\n",
       "      <td>0.032786</td>\n",
       "      <td>SDTD, SMC, AFSPC</td>\n",
       "      <td>https://www.rallypoint.com/units/sdtd-space-de...</td>\n",
       "      <td>RallyPoint,Transition,Networking,Civilian Care...</td>\n",
       "    </tr>\n",
       "    <tr>\n",
       "      <th>3</th>\n",
       "      <td>610</td>\n",
       "      <td>Married</td>\n",
       "      <td>40.0</td>\n",
       "      <td>Male</td>\n",
       "      <td>25A: Signal Officer</td>\n",
       "      <td>LTC</td>\n",
       "      <td>Servicemember</td>\n",
       "      <td>NaN</td>\n",
       "      <td>2012-08-10 21:16:49</td>\n",
       "      <td>Active</td>\n",
       "      <td>...</td>\n",
       "      <td>--</td>\n",
       "      <td>0</td>\n",
       "      <td>0000-00-00 00:00:00</td>\n",
       "      <td>military_career,military_topics</td>\n",
       "      <td>0.000000</td>\n",
       "      <td>0.022479</td>\n",
       "      <td>0.006713</td>\n",
       "      <td>J6</td>\n",
       "      <td>https://www.rallypoint.com/units/j6-j6-command...</td>\n",
       "      <td>Hiking,BBQ,Snorkeling</td>\n",
       "    </tr>\n",
       "    <tr>\n",
       "      <th>4</th>\n",
       "      <td>619</td>\n",
       "      <td>Married</td>\n",
       "      <td>38.0</td>\n",
       "      <td>Male</td>\n",
       "      <td>64PX: Contracting</td>\n",
       "      <td>Lt Col</td>\n",
       "      <td>Servicemember</td>\n",
       "      <td>Small Business Liaison/Procurement Analyst</td>\n",
       "      <td>2012-08-12 18:15:54</td>\n",
       "      <td>Reserve</td>\n",
       "      <td>...</td>\n",
       "      <td>--</td>\n",
       "      <td>0</td>\n",
       "      <td>0000-00-00 00:00:00</td>\n",
       "      <td>new_people,military_career</td>\n",
       "      <td>0.002546</td>\n",
       "      <td>0.012981</td>\n",
       "      <td>0.000000</td>\n",
       "      <td>DCMA, ASD ACQ, USD AT&amp;L, OSD</td>\n",
       "      <td>https://www.rallypoint.com/units/dcma-defense-...</td>\n",
       "      <td>Networking,Family,Mentorship,Firearms and Guns...</td>\n",
       "    </tr>\n",
       "  </tbody>\n",
       "</table>\n",
       "<p>5 rows × 43 columns</p>\n",
       "</div>"
      ],
      "text/plain": [
       "   profile_id marital_status   age gender                  office_level  \\\n",
       "0         604        Married  44.0   Male   18A: Special Forces Officer   \n",
       "1         605        Married   NaN   Male  13A: Field Artillery Officer   \n",
       "2         607        Married  39.0   Male     63AX: Acquisition Manager   \n",
       "3         610        Married  40.0   Male           25A: Signal Officer   \n",
       "4         619        Married  38.0   Male             64PX: Contracting   \n",
       "\n",
       "     rank    member_type                              civilian_title  \\\n",
       "0     LTC  Servicemember                                Board Member   \n",
       "1     CPT        Veteran                                  Co-Founder   \n",
       "2    Capt        Veteran        Vice President of Account Management   \n",
       "3     LTC  Servicemember                                         NaN   \n",
       "4  Lt Col  Servicemember  Small Business Liaison/Procurement Analyst   \n",
       "\n",
       "            created_at branch_component  ... suspended_by member_admin_stars  \\\n",
       "0  2012-08-10 13:42:36          Reserve  ...           --                  4   \n",
       "1  2012-08-10 14:33:07           Active  ...           --                  4   \n",
       "2  2012-08-10 18:11:56           Active  ...           --                  0   \n",
       "3  2012-08-10 21:16:49           Active  ...           --                  0   \n",
       "4  2012-08-12 18:15:54          Reserve  ...           --                  0   \n",
       "\n",
       "  academic_availability                          goal_type job_score  \\\n",
       "0   0000-00-00 00:00:00  old_friends,employment_transition  0.000000   \n",
       "1   0000-00-00 00:00:00          new_people,veteran_topics  0.000000   \n",
       "2   0000-00-00 00:00:00                    civilian_career  0.430835   \n",
       "3   0000-00-00 00:00:00    military_career,military_topics  0.000000   \n",
       "4   0000-00-00 00:00:00         new_people,military_career  0.002546   \n",
       "\n",
       "   education_score  financial_score                         member_unit_name  \\\n",
       "0         0.014041         0.014739                                 DIU, OSD   \n",
       "1         0.013838         0.023000  Fort Knox WTBN, NRMC (WTC), WTC, MEDCOM   \n",
       "2         0.037638         0.032786                         SDTD, SMC, AFSPC   \n",
       "3         0.022479         0.006713                                       J6   \n",
       "4         0.012981         0.000000             DCMA, ASD ACQ, USD AT&L, OSD   \n",
       "\n",
       "                                    member_unit_link  \\\n",
       "0  https://www.rallypoint.com/units/diu-defense-i...   \n",
       "1  https://www.rallypoint.com/units/fort-knox-wtb...   \n",
       "2  https://www.rallypoint.com/units/sdtd-space-de...   \n",
       "3  https://www.rallypoint.com/units/j6-j6-command...   \n",
       "4  https://www.rallypoint.com/units/dcma-defense-...   \n",
       "\n",
       "                                      profile_groups  \n",
       "0  Travel,Military History,Hiking,Formula 1,Talen...  \n",
       "1  Education,Military Career,Promotions,Mentorshi...  \n",
       "2  RallyPoint,Transition,Networking,Civilian Care...  \n",
       "3                              Hiking,BBQ,Snorkeling  \n",
       "4  Networking,Family,Mentorship,Firearms and Guns...  \n",
       "\n",
       "[5 rows x 43 columns]"
      ]
     },
     "execution_count": 42,
     "metadata": {},
     "output_type": "execute_result"
    }
   ],
   "source": [
    "df_users = pd.read_csv(f'{raw_data_dir}/profiles.csv')\n",
    "df_users.head(5)\n"
   ]
  },
  {
   "cell_type": "code",
   "execution_count": 43,
   "metadata": {},
   "outputs": [
    {
     "data": {
      "text/html": [
       "<div>\n",
       "<style scoped>\n",
       "    .dataframe tbody tr th:only-of-type {\n",
       "        vertical-align: middle;\n",
       "    }\n",
       "\n",
       "    .dataframe tbody tr th {\n",
       "        vertical-align: top;\n",
       "    }\n",
       "\n",
       "    .dataframe thead th {\n",
       "        text-align: right;\n",
       "    }\n",
       "</style>\n",
       "<table border=\"1\" class=\"dataframe\">\n",
       "  <thead>\n",
       "    <tr style=\"text-align: right;\">\n",
       "      <th></th>\n",
       "      <th>profile_id</th>\n",
       "      <th>marital_status</th>\n",
       "      <th>age</th>\n",
       "      <th>gender</th>\n",
       "      <th>rank</th>\n",
       "      <th>created_at</th>\n",
       "    </tr>\n",
       "  </thead>\n",
       "  <tbody>\n",
       "    <tr>\n",
       "      <th>0</th>\n",
       "      <td>604</td>\n",
       "      <td>Married</td>\n",
       "      <td>44.0</td>\n",
       "      <td>Male</td>\n",
       "      <td>LTC</td>\n",
       "      <td>2012-08-10 13:42:36</td>\n",
       "    </tr>\n",
       "    <tr>\n",
       "      <th>1</th>\n",
       "      <td>605</td>\n",
       "      <td>Married</td>\n",
       "      <td>NaN</td>\n",
       "      <td>Male</td>\n",
       "      <td>CPT</td>\n",
       "      <td>2012-08-10 14:33:07</td>\n",
       "    </tr>\n",
       "    <tr>\n",
       "      <th>2</th>\n",
       "      <td>607</td>\n",
       "      <td>Married</td>\n",
       "      <td>39.0</td>\n",
       "      <td>Male</td>\n",
       "      <td>Capt</td>\n",
       "      <td>2012-08-10 18:11:56</td>\n",
       "    </tr>\n",
       "    <tr>\n",
       "      <th>3</th>\n",
       "      <td>610</td>\n",
       "      <td>Married</td>\n",
       "      <td>40.0</td>\n",
       "      <td>Male</td>\n",
       "      <td>LTC</td>\n",
       "      <td>2012-08-10 21:16:49</td>\n",
       "    </tr>\n",
       "    <tr>\n",
       "      <th>4</th>\n",
       "      <td>619</td>\n",
       "      <td>Married</td>\n",
       "      <td>38.0</td>\n",
       "      <td>Male</td>\n",
       "      <td>Lt Col</td>\n",
       "      <td>2012-08-12 18:15:54</td>\n",
       "    </tr>\n",
       "  </tbody>\n",
       "</table>\n",
       "</div>"
      ],
      "text/plain": [
       "   profile_id marital_status   age gender    rank           created_at\n",
       "0         604        Married  44.0   Male     LTC  2012-08-10 13:42:36\n",
       "1         605        Married   NaN   Male     CPT  2012-08-10 14:33:07\n",
       "2         607        Married  39.0   Male    Capt  2012-08-10 18:11:56\n",
       "3         610        Married  40.0   Male     LTC  2012-08-10 21:16:49\n",
       "4         619        Married  38.0   Male  Lt Col  2012-08-12 18:15:54"
      ]
     },
     "execution_count": 43,
     "metadata": {},
     "output_type": "execute_result"
    }
   ],
   "source": [
    "df_users = df_users[['profile_id', 'marital_status', 'age', 'gender', 'rank', 'created_at']]\n",
    "df_users.head(5)"
   ]
  },
  {
   "cell_type": "code",
   "execution_count": 44,
   "metadata": {},
   "outputs": [
    {
     "name": "stdout",
     "output_type": "stream",
     "text": [
      "<class 'pandas.core.frame.DataFrame'>\n",
      "RangeIndex: 60395 entries, 0 to 60394\n",
      "Data columns (total 6 columns):\n",
      " #   Column          Non-Null Count  Dtype  \n",
      "---  ------          --------------  -----  \n",
      " 0   profile_id      60395 non-null  int64  \n",
      " 1   marital_status  11008 non-null  object \n",
      " 2   age             12806 non-null  float64\n",
      " 3   gender          60395 non-null  object \n",
      " 4   rank            56527 non-null  object \n",
      " 5   created_at      60395 non-null  object \n",
      "dtypes: float64(1), int64(1), object(4)\n",
      "memory usage: 2.8+ MB\n"
     ]
    }
   ],
   "source": [
    "df_users.info()"
   ]
  },
  {
   "cell_type": "code",
   "execution_count": 45,
   "metadata": {},
   "outputs": [
    {
     "name": "stdout",
     "output_type": "stream",
     "text": [
      "<class 'pandas.core.frame.DataFrame'>\n",
      "RangeIndex: 60395 entries, 0 to 60394\n",
      "Data columns (total 6 columns):\n",
      " #   Column          Non-Null Count  Dtype  \n",
      "---  ------          --------------  -----  \n",
      " 0   profile_id      60395 non-null  int64  \n",
      " 1   marital_status  60395 non-null  object \n",
      " 2   age             60395 non-null  float64\n",
      " 3   gender          60395 non-null  object \n",
      " 4   rank            60395 non-null  object \n",
      " 5   created_at      60395 non-null  object \n",
      "dtypes: float64(1), int64(1), object(4)\n",
      "memory usage: 2.8+ MB\n"
     ]
    }
   ],
   "source": [
    "# hmmm, N/A values for age and marital_status...  fix this\n",
    "df_users['age'].fillna(df_users['age'].mean(), inplace=True)\n",
    "df_users['marital_status'].fillna('unknown', inplace=True)\n",
    "df_users['rank'].fillna('unknown', inplace=True)\n",
    "df_users.info()"
   ]
  },
  {
   "cell_type": "code",
   "execution_count": 46,
   "metadata": {},
   "outputs": [
    {
     "name": "stdout",
     "output_type": "stream",
     "text": [
      "<class 'pandas.core.frame.DataFrame'>\n",
      "RangeIndex: 60395 entries, 0 to 60394\n",
      "Data columns (total 6 columns):\n",
      " #   Column          Non-Null Count  Dtype \n",
      "---  ------          --------------  ----- \n",
      " 0   USER_ID         60395 non-null  int64 \n",
      " 1   marital_status  60395 non-null  object\n",
      " 2   age             60395 non-null  int64 \n",
      " 3   gender          60395 non-null  object\n",
      " 4   rank            60395 non-null  object\n",
      " 5   TIMESTAMP       60395 non-null  int64 \n",
      "dtypes: int64(3), object(3)\n",
      "memory usage: 2.8+ MB\n"
     ]
    }
   ],
   "source": [
    "df_users.rename(columns = {'profile_id': 'USER_ID', 'created_at': 'TIMESTAMP'}, inplace=True)\n",
    "df_users['TIMESTAMP'] = pd.to_datetime(df_users['TIMESTAMP'])\n",
    "df_users['TIMESTAMP'] = df_users['TIMESTAMP'].astype('int64')\n",
    "df_users['age'] = df_users['age'].astype('int')\n",
    "\n",
    "df_users.info()"
   ]
  },
  {
   "cell_type": "code",
   "execution_count": 47,
   "metadata": {},
   "outputs": [],
   "source": [
    "users_filename = \"user-meta.csv\"\n",
    "df_users.to_csv((data_dir+\"/\"+users_filename), index=False)"
   ]
  },
  {
   "cell_type": "code",
   "execution_count": 48,
   "metadata": {},
   "outputs": [
    {
     "name": "stdout",
     "output_type": "stream",
     "text": [
      "{\n",
      "  \"schemaArn\": \"arn:aws:personalize:us-east-1:662559257807:schema/users-schema\",\n",
      "  \"ResponseMetadata\": {\n",
      "    \"RequestId\": \"337f97f2-6dc5-4f0d-9a41-a03f34ac6a1c\",\n",
      "    \"HTTPStatusCode\": 200,\n",
      "    \"HTTPHeaders\": {\n",
      "      \"content-type\": \"application/x-amz-json-1.1\",\n",
      "      \"date\": \"Wed, 13 Oct 2021 18:22:43 GMT\",\n",
      "      \"x-amzn-requestid\": \"337f97f2-6dc5-4f0d-9a41-a03f34ac6a1c\",\n",
      "      \"content-length\": \"78\",\n",
      "      \"connection\": \"keep-alive\"\n",
      "    },\n",
      "    \"RetryAttempts\": 0\n",
      "  }\n",
      "}\n"
     ]
    }
   ],
   "source": [
    "users_schema = {\n",
    "    \"type\": \"record\",\n",
    "    \"name\": \"Users\",\n",
    "    \"namespace\": \"com.amazonaws.personalize.schema\",\n",
    "    \"fields\": [\n",
    "        {\n",
    "            \"name\": \"USER_ID\",\n",
    "            \"type\": \"string\"\n",
    "        },\n",
    "        {\n",
    "            \"name\": \"TIMESTAMP\",\n",
    "            \"type\": \"long\"\n",
    "        },\n",
    "        {\n",
    "            \"name\": \"marital_status\",\n",
    "            \"type\": \"string\",\n",
    "            \"categorical\": True\n",
    "        },\n",
    "        {\n",
    "            \"name\": \"age\",\n",
    "            \"type\": \"int\",\n",
    "            \"categorical\": True\n",
    "        },\n",
    "        {\n",
    "            \"name\": \"gender\",\n",
    "            \"type\": \"string\",\n",
    "            \"categorical\": True\n",
    "        },\n",
    "        {\n",
    "            \"name\": \"rank\",\n",
    "            \"type\": \"string\",\n",
    "            \"categorical\": True\n",
    "        }\n",
    "    ],\n",
    "    \"version\": \"1.0\"\n",
    "}\n",
    "\n",
    "create_schema_response = personalize.create_schema(\n",
    "    name = \"users-schema\",\n",
    "    schema = json.dumps(users_schema)\n",
    ")\n",
    "\n",
    "users_metadataschema_arn = create_schema_response['schemaArn']\n",
    "print(json.dumps(create_schema_response, indent=2))"
   ]
  },
  {
   "cell_type": "code",
   "execution_count": 49,
   "metadata": {},
   "outputs": [
    {
     "name": "stdout",
     "output_type": "stream",
     "text": [
      "{\n",
      "  \"datasetArn\": \"arn:aws:personalize:us-east-1:662559257807:dataset/rp-personalize-dsg/USERS\",\n",
      "  \"ResponseMetadata\": {\n",
      "    \"RequestId\": \"ce305747-9735-45a7-a80a-4c1939199848\",\n",
      "    \"HTTPStatusCode\": 200,\n",
      "    \"HTTPHeaders\": {\n",
      "      \"content-type\": \"application/x-amz-json-1.1\",\n",
      "      \"date\": \"Wed, 13 Oct 2021 18:22:44 GMT\",\n",
      "      \"x-amzn-requestid\": \"ce305747-9735-45a7-a80a-4c1939199848\",\n",
      "      \"content-length\": \"92\",\n",
      "      \"connection\": \"keep-alive\"\n",
      "    },\n",
      "    \"RetryAttempts\": 0\n",
      "  }\n",
      "}\n"
     ]
    }
   ],
   "source": [
    "dataset_type = \"USERS\"\n",
    "create_dataset_response = personalize.create_dataset(\n",
    "    name = \"users-metadata-dataset\",\n",
    "    datasetType = dataset_type,\n",
    "    datasetGroupArn = dataset_group_arn,\n",
    "    schemaArn = users_metadataschema_arn\n",
    ")\n",
    "\n",
    "users_dataset_arn = create_dataset_response['datasetArn']\n",
    "print(json.dumps(create_dataset_response, indent=2))"
   ]
  },
  {
   "cell_type": "code",
   "execution_count": 50,
   "metadata": {},
   "outputs": [
    {
     "name": "stdout",
     "output_type": "stream",
     "text": [
      "upload: data/user-meta.csv to s3://am-tmp2/rallypoint/user-meta.csv\n"
     ]
    }
   ],
   "source": [
    "src_filename = f'{data_dir}{users_filename}'\n",
    "users_s3filepath = f's3://{s3bucket}/{s3prefix}/{users_filename}'\n",
    "\n",
    "!aws s3 cp $src_filename $users_s3filepath"
   ]
  },
  {
   "cell_type": "code",
   "execution_count": 54,
   "metadata": {},
   "outputs": [
    {
     "name": "stdout",
     "output_type": "stream",
     "text": [
      "{\n",
      "  \"datasetImportJobArn\": \"arn:aws:personalize:us-east-1:662559257807:dataset-import-job/rp-users-metadata-import\",\n",
      "  \"ResponseMetadata\": {\n",
      "    \"RequestId\": \"e78ab2f5-9fe8-4a58-9dba-09a1636a655c\",\n",
      "    \"HTTPStatusCode\": 200,\n",
      "    \"HTTPHeaders\": {\n",
      "      \"content-type\": \"application/x-amz-json-1.1\",\n",
      "      \"date\": \"Wed, 13 Oct 2021 18:23:13 GMT\",\n",
      "      \"x-amzn-requestid\": \"e78ab2f5-9fe8-4a58-9dba-09a1636a655c\",\n",
      "      \"content-length\": \"112\",\n",
      "      \"connection\": \"keep-alive\"\n",
      "    },\n",
      "    \"RetryAttempts\": 0\n",
      "  }\n",
      "}\n"
     ]
    }
   ],
   "source": [
    "create_dataset_import_job_response = personalize.create_dataset_import_job(\n",
    "    jobName = \"rp-users-metadata-import\",\n",
    "    datasetArn = users_dataset_arn,\n",
    "    dataSource = {\n",
    "        \"dataLocation\": users_s3filepath\n",
    "    },\n",
    "    roleArn = role_arn\n",
    ")\n",
    "\n",
    "dataset_import_job_arn = create_dataset_import_job_response['datasetImportJobArn']\n",
    "print(json.dumps(create_dataset_import_job_response, indent=2))"
   ]
  },
  {
   "cell_type": "code",
   "execution_count": 55,
   "metadata": {},
   "outputs": [
    {
     "name": "stdout",
     "output_type": "stream",
     "text": [
      "DatasetImportJob: CREATE PENDING\n",
      "DatasetImportJob: CREATE IN_PROGRESS\n",
      "DatasetImportJob: CREATE IN_PROGRESS\n",
      "DatasetImportJob: CREATE IN_PROGRESS\n",
      "DatasetImportJob: CREATE IN_PROGRESS\n",
      "DatasetImportJob: CREATE IN_PROGRESS\n",
      "DatasetImportJob: CREATE IN_PROGRESS\n",
      "DatasetImportJob: CREATE IN_PROGRESS\n",
      "DatasetImportJob: ACTIVE\n",
      "CPU times: user 37.6 ms, sys: 11.5 ms, total: 49.1 ms\n",
      "Wall time: 4min\n"
     ]
    }
   ],
   "source": [
    "%%time\n",
    "\n",
    "max_time = time.time() + 6*60*60 # 6 hours\n",
    "while time.time() < max_time:\n",
    "    describe_dataset_import_job_response = personalize.describe_dataset_import_job(\n",
    "        datasetImportJobArn = dataset_import_job_arn\n",
    "    )\n",
    "    status = describe_dataset_import_job_response[\"datasetImportJob\"]['status']\n",
    "    print(\"DatasetImportJob: {}\".format(status))\n",
    "    \n",
    "    if status == \"ACTIVE\" or status == \"CREATE FAILED\":\n",
    "        break\n",
    "        \n",
    "    time.sleep(30)"
   ]
  },
  {
   "cell_type": "markdown",
   "metadata": {},
   "source": [
    "With all three imports (Interactions, Users, Items) now complete you can enable filtering for your recommendations.    \n",
    "Run the cell below before moving on to store a few values for usage in the next notebooks.  \n",
    "After completing that cell open notebook `training.ipynb` to continue."
   ]
  },
  {
   "cell_type": "code",
   "execution_count": 56,
   "metadata": {},
   "outputs": [
    {
     "name": "stdout",
     "output_type": "stream",
     "text": [
      "Stored 'dataset_group_arn' (str)\n",
      "Stored 's3bucket' (str)\n",
      "Stored 's3prefix' (str)\n",
      "Stored 'role_arn' (str)\n",
      "Stored 'data_dir' (str)\n",
      "Stored 'region' (str)\n",
      "Stored 'interactions_dataset_arn' (str)\n",
      "Stored 'interaction_schema_arn' (str)\n",
      "Stored 'items_dataset_arn' (str)\n",
      "Stored 'items_metadataschema_arn' (str)\n",
      "Stored 'users_dataset_arn' (str)\n",
      "Stored 'users_metadataschema_arn' (str)\n"
     ]
    }
   ],
   "source": [
    "%store dataset_group_arn\n",
    "%store s3bucket\n",
    "%store s3prefix\n",
    "%store role_arn\n",
    "%store data_dir\n",
    "%store region\n",
    "%store interactions_dataset_arn\n",
    "%store interaction_schema_arn\n",
    "%store items_dataset_arn\n",
    "%store items_metadataschema_arn\n",
    "%store users_dataset_arn\n",
    "%store users_metadataschema_arn"
   ]
  },
  {
   "cell_type": "code",
   "execution_count": null,
   "metadata": {},
   "outputs": [],
   "source": []
  }
 ],
 "metadata": {
  "kernelspec": {
   "display_name": "Python 3 (Data Science)",
   "language": "python",
   "name": "python3__SAGEMAKER_INTERNAL__arn:aws:sagemaker:us-east-1:081325390199:image/datascience-1.0"
  },
  "language_info": {
   "codemirror_mode": {
    "name": "ipython",
    "version": 3
   },
   "file_extension": ".py",
   "mimetype": "text/x-python",
   "name": "python",
   "nbconvert_exporter": "python",
   "pygments_lexer": "ipython3",
   "version": "3.7.10"
  }
 },
 "nbformat": 4,
 "nbformat_minor": 4
}
